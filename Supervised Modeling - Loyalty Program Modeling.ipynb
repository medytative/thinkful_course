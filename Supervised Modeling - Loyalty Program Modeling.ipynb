{
 "cells": [
  {
   "cell_type": "code",
   "execution_count": 1,
   "metadata": {
    "collapsed": true
   },
   "outputs": [],
   "source": [
    "import numpy as np\n",
    "import pandas as pd\n",
    "import scipy\n",
    "import matplotlib.pyplot as plt\n",
    "import seaborn as sns\n",
    "%matplotlib inline"
   ]
  },
  {
   "cell_type": "markdown",
   "metadata": {},
   "source": [
    "Our data today is a test set brought to you by Thinkful. We will be analyzing the data and building some models to help predict and provide more details on the types of users most likely to join a loyalty program."
   ]
  },
  {
   "cell_type": "code",
   "execution_count": 2,
   "metadata": {
    "collapsed": true
   },
   "outputs": [],
   "source": [
    "# Pull data into DF\n",
    "loyalty_program = pd.read_csv('https://raw.githubusercontent.com/Thinkful-Ed/data-201-resources/master/customers_data.csv')\n",
    "del loyalty_program['Unnamed: 0']"
   ]
  },
  {
   "cell_type": "code",
   "execution_count": 3,
   "metadata": {
    "scrolled": false
   },
   "outputs": [
    {
     "data": {
      "text/html": [
       "<div>\n",
       "<style>\n",
       "    .dataframe thead tr:only-child th {\n",
       "        text-align: right;\n",
       "    }\n",
       "\n",
       "    .dataframe thead th {\n",
       "        text-align: left;\n",
       "    }\n",
       "\n",
       "    .dataframe tbody tr th {\n",
       "        vertical-align: top;\n",
       "    }\n",
       "</style>\n",
       "<table border=\"1\" class=\"dataframe\">\n",
       "  <thead>\n",
       "    <tr style=\"text-align: right;\">\n",
       "      <th></th>\n",
       "      <th>purch_amt</th>\n",
       "      <th>gender</th>\n",
       "      <th>card_on_file</th>\n",
       "      <th>age</th>\n",
       "      <th>days_since_last_purch</th>\n",
       "      <th>loyalty</th>\n",
       "    </tr>\n",
       "  </thead>\n",
       "  <tbody>\n",
       "    <tr>\n",
       "      <th>0</th>\n",
       "      <td>19.58</td>\n",
       "      <td>male</td>\n",
       "      <td>no</td>\n",
       "      <td>31.0</td>\n",
       "      <td>35.0</td>\n",
       "      <td>False</td>\n",
       "    </tr>\n",
       "    <tr>\n",
       "      <th>1</th>\n",
       "      <td>65.16</td>\n",
       "      <td>male</td>\n",
       "      <td>yes</td>\n",
       "      <td>23.0</td>\n",
       "      <td>61.0</td>\n",
       "      <td>False</td>\n",
       "    </tr>\n",
       "    <tr>\n",
       "      <th>2</th>\n",
       "      <td>40.60</td>\n",
       "      <td>female</td>\n",
       "      <td>no</td>\n",
       "      <td>36.0</td>\n",
       "      <td>49.0</td>\n",
       "      <td>False</td>\n",
       "    </tr>\n",
       "    <tr>\n",
       "      <th>3</th>\n",
       "      <td>38.01</td>\n",
       "      <td>male</td>\n",
       "      <td>yes</td>\n",
       "      <td>47.0</td>\n",
       "      <td>57.0</td>\n",
       "      <td>False</td>\n",
       "    </tr>\n",
       "    <tr>\n",
       "      <th>4</th>\n",
       "      <td>22.32</td>\n",
       "      <td>female</td>\n",
       "      <td>yes</td>\n",
       "      <td>5.0</td>\n",
       "      <td>39.0</td>\n",
       "      <td>False</td>\n",
       "    </tr>\n",
       "  </tbody>\n",
       "</table>\n",
       "</div>"
      ],
      "text/plain": [
       "   purch_amt  gender card_on_file   age  days_since_last_purch  loyalty\n",
       "0      19.58    male           no  31.0                   35.0    False\n",
       "1      65.16    male          yes  23.0                   61.0    False\n",
       "2      40.60  female           no  36.0                   49.0    False\n",
       "3      38.01    male          yes  47.0                   57.0    False\n",
       "4      22.32  female          yes   5.0                   39.0    False"
      ]
     },
     "execution_count": 3,
     "metadata": {},
     "output_type": "execute_result"
    }
   ],
   "source": [
    "loyalty_program.head()"
   ]
  },
  {
   "cell_type": "code",
   "execution_count": 4,
   "metadata": {},
   "outputs": [
    {
     "data": {
      "text/html": [
       "<div>\n",
       "<style>\n",
       "    .dataframe thead tr:only-child th {\n",
       "        text-align: right;\n",
       "    }\n",
       "\n",
       "    .dataframe thead th {\n",
       "        text-align: left;\n",
       "    }\n",
       "\n",
       "    .dataframe tbody tr th {\n",
       "        vertical-align: top;\n",
       "    }\n",
       "</style>\n",
       "<table border=\"1\" class=\"dataframe\">\n",
       "  <thead>\n",
       "    <tr style=\"text-align: right;\">\n",
       "      <th></th>\n",
       "      <th>purch_amt</th>\n",
       "      <th>age</th>\n",
       "      <th>days_since_last_purch</th>\n",
       "    </tr>\n",
       "  </thead>\n",
       "  <tbody>\n",
       "    <tr>\n",
       "      <th>count</th>\n",
       "      <td>120000.000000</td>\n",
       "      <td>120000.000000</td>\n",
       "      <td>120000.000000</td>\n",
       "    </tr>\n",
       "    <tr>\n",
       "      <th>mean</th>\n",
       "      <td>44.036234</td>\n",
       "      <td>25.803008</td>\n",
       "      <td>56.605908</td>\n",
       "    </tr>\n",
       "    <tr>\n",
       "      <th>std</th>\n",
       "      <td>20.473148</td>\n",
       "      <td>10.153072</td>\n",
       "      <td>16.422187</td>\n",
       "    </tr>\n",
       "    <tr>\n",
       "      <th>min</th>\n",
       "      <td>-43.950000</td>\n",
       "      <td>-22.000000</td>\n",
       "      <td>-9.000000</td>\n",
       "    </tr>\n",
       "    <tr>\n",
       "      <th>25%</th>\n",
       "      <td>30.210000</td>\n",
       "      <td>19.000000</td>\n",
       "      <td>45.000000</td>\n",
       "    </tr>\n",
       "    <tr>\n",
       "      <th>50%</th>\n",
       "      <td>43.970000</td>\n",
       "      <td>26.000000</td>\n",
       "      <td>57.000000</td>\n",
       "    </tr>\n",
       "    <tr>\n",
       "      <th>75%</th>\n",
       "      <td>57.830000</td>\n",
       "      <td>33.000000</td>\n",
       "      <td>68.000000</td>\n",
       "    </tr>\n",
       "    <tr>\n",
       "      <th>max</th>\n",
       "      <td>142.200000</td>\n",
       "      <td>71.000000</td>\n",
       "      <td>125.000000</td>\n",
       "    </tr>\n",
       "  </tbody>\n",
       "</table>\n",
       "</div>"
      ],
      "text/plain": [
       "           purch_amt            age  days_since_last_purch\n",
       "count  120000.000000  120000.000000          120000.000000\n",
       "mean       44.036234      25.803008              56.605908\n",
       "std        20.473148      10.153072              16.422187\n",
       "min       -43.950000     -22.000000              -9.000000\n",
       "25%        30.210000      19.000000              45.000000\n",
       "50%        43.970000      26.000000              57.000000\n",
       "75%        57.830000      33.000000              68.000000\n",
       "max       142.200000      71.000000             125.000000"
      ]
     },
     "execution_count": 4,
     "metadata": {},
     "output_type": "execute_result"
    }
   ],
   "source": [
    "loyalty_program.describe()"
   ]
  },
  {
   "cell_type": "markdown",
   "metadata": {},
   "source": [
    "## Feature Exploration - X/Y"
   ]
  },
  {
   "cell_type": "markdown",
   "metadata": {},
   "source": [
    "We will explore each feature as follows:\n",
    "\n",
    "- Look at the feature distribution\n",
    "- Plot against metric of interest (for continuous variables)\n",
    "- Run significance testing to determine value of feature"
   ]
  },
  {
   "cell_type": "code",
   "execution_count": 5,
   "metadata": {
    "collapsed": true
   },
   "outputs": [],
   "source": [
    "# Import stats tests\n",
    "from scipy import stats\n",
    "\n",
    "# Set seaborn plot style\n",
    "sns.set_style('darkgrid')"
   ]
  },
  {
   "cell_type": "markdown",
   "metadata": {},
   "source": [
    "#### Purchase Amount"
   ]
  },
  {
   "cell_type": "code",
   "execution_count": 6,
   "metadata": {
    "scrolled": false
   },
   "outputs": [
    {
     "data": {
      "text/plain": [
       "<matplotlib.axes._subplots.AxesSubplot at 0x10b385630>"
      ]
     },
     "execution_count": 6,
     "metadata": {},
     "output_type": "execute_result"
    },
    {
     "data": {
      "image/png": "[encoded data removed]",
      "text/plain": [
       "<matplotlib.figure.Figure at 0x10b1f3f60>"
      ]
     },
     "metadata": {},
     "output_type": "display_data"
    }
   ],
   "source": [
    "sns.distplot(loyalty_program.purch_amt)"
   ]
  },
  {
   "cell_type": "markdown",
   "metadata": {},
   "source": [
    "Normal distribution indicating t-test eligibility\n",
    "\n",
    "Purchase amount's below 0 are strange, so let's look at those"
   ]
  },
  {
   "cell_type": "code",
   "execution_count": 7,
   "metadata": {
    "scrolled": true
   },
   "outputs": [
    {
     "data": {
      "text/html": [
       "<div>\n",
       "<style>\n",
       "    .dataframe thead tr:only-child th {\n",
       "        text-align: right;\n",
       "    }\n",
       "\n",
       "    .dataframe thead th {\n",
       "        text-align: left;\n",
       "    }\n",
       "\n",
       "    .dataframe tbody tr th {\n",
       "        vertical-align: top;\n",
       "    }\n",
       "</style>\n",
       "<table border=\"1\" class=\"dataframe\">\n",
       "  <thead>\n",
       "    <tr style=\"text-align: right;\">\n",
       "      <th></th>\n",
       "      <th>purch_amt</th>\n",
       "      <th>gender</th>\n",
       "      <th>card_on_file</th>\n",
       "      <th>age</th>\n",
       "      <th>days_since_last_purch</th>\n",
       "      <th>loyalty</th>\n",
       "    </tr>\n",
       "  </thead>\n",
       "  <tbody>\n",
       "    <tr>\n",
       "      <th>103</th>\n",
       "      <td>-6.79</td>\n",
       "      <td>female</td>\n",
       "      <td>yes</td>\n",
       "      <td>18.0</td>\n",
       "      <td>67.0</td>\n",
       "      <td>False</td>\n",
       "    </tr>\n",
       "    <tr>\n",
       "      <th>115</th>\n",
       "      <td>-12.85</td>\n",
       "      <td>female</td>\n",
       "      <td>yes</td>\n",
       "      <td>23.0</td>\n",
       "      <td>63.0</td>\n",
       "      <td>False</td>\n",
       "    </tr>\n",
       "    <tr>\n",
       "      <th>119</th>\n",
       "      <td>-5.00</td>\n",
       "      <td>male</td>\n",
       "      <td>no</td>\n",
       "      <td>23.0</td>\n",
       "      <td>69.0</td>\n",
       "      <td>False</td>\n",
       "    </tr>\n",
       "    <tr>\n",
       "      <th>126</th>\n",
       "      <td>-3.85</td>\n",
       "      <td>male</td>\n",
       "      <td>no</td>\n",
       "      <td>21.0</td>\n",
       "      <td>51.0</td>\n",
       "      <td>False</td>\n",
       "    </tr>\n",
       "    <tr>\n",
       "      <th>163</th>\n",
       "      <td>-1.34</td>\n",
       "      <td>female</td>\n",
       "      <td>yes</td>\n",
       "      <td>16.0</td>\n",
       "      <td>45.0</td>\n",
       "      <td>False</td>\n",
       "    </tr>\n",
       "    <tr>\n",
       "      <th>481</th>\n",
       "      <td>-0.63</td>\n",
       "      <td>male</td>\n",
       "      <td>no</td>\n",
       "      <td>35.0</td>\n",
       "      <td>54.0</td>\n",
       "      <td>False</td>\n",
       "    </tr>\n",
       "    <tr>\n",
       "      <th>497</th>\n",
       "      <td>-3.24</td>\n",
       "      <td>male</td>\n",
       "      <td>no</td>\n",
       "      <td>13.0</td>\n",
       "      <td>78.0</td>\n",
       "      <td>False</td>\n",
       "    </tr>\n",
       "    <tr>\n",
       "      <th>576</th>\n",
       "      <td>-1.60</td>\n",
       "      <td>female</td>\n",
       "      <td>yes</td>\n",
       "      <td>29.0</td>\n",
       "      <td>54.0</td>\n",
       "      <td>False</td>\n",
       "    </tr>\n",
       "    <tr>\n",
       "      <th>639</th>\n",
       "      <td>-15.68</td>\n",
       "      <td>female</td>\n",
       "      <td>no</td>\n",
       "      <td>30.0</td>\n",
       "      <td>51.0</td>\n",
       "      <td>False</td>\n",
       "    </tr>\n",
       "    <tr>\n",
       "      <th>685</th>\n",
       "      <td>-6.56</td>\n",
       "      <td>female</td>\n",
       "      <td>yes</td>\n",
       "      <td>27.0</td>\n",
       "      <td>75.0</td>\n",
       "      <td>False</td>\n",
       "    </tr>\n",
       "    <tr>\n",
       "      <th>746</th>\n",
       "      <td>-14.78</td>\n",
       "      <td>female</td>\n",
       "      <td>no</td>\n",
       "      <td>36.0</td>\n",
       "      <td>63.0</td>\n",
       "      <td>False</td>\n",
       "    </tr>\n",
       "    <tr>\n",
       "      <th>750</th>\n",
       "      <td>-3.55</td>\n",
       "      <td>male</td>\n",
       "      <td>no</td>\n",
       "      <td>16.0</td>\n",
       "      <td>60.0</td>\n",
       "      <td>False</td>\n",
       "    </tr>\n",
       "    <tr>\n",
       "      <th>766</th>\n",
       "      <td>-1.50</td>\n",
       "      <td>male</td>\n",
       "      <td>no</td>\n",
       "      <td>11.0</td>\n",
       "      <td>60.0</td>\n",
       "      <td>False</td>\n",
       "    </tr>\n",
       "    <tr>\n",
       "      <th>815</th>\n",
       "      <td>-16.89</td>\n",
       "      <td>male</td>\n",
       "      <td>no</td>\n",
       "      <td>49.0</td>\n",
       "      <td>52.0</td>\n",
       "      <td>False</td>\n",
       "    </tr>\n",
       "    <tr>\n",
       "      <th>869</th>\n",
       "      <td>-8.86</td>\n",
       "      <td>male</td>\n",
       "      <td>no</td>\n",
       "      <td>28.0</td>\n",
       "      <td>53.0</td>\n",
       "      <td>False</td>\n",
       "    </tr>\n",
       "    <tr>\n",
       "      <th>1060</th>\n",
       "      <td>-6.49</td>\n",
       "      <td>female</td>\n",
       "      <td>no</td>\n",
       "      <td>29.0</td>\n",
       "      <td>51.0</td>\n",
       "      <td>False</td>\n",
       "    </tr>\n",
       "    <tr>\n",
       "      <th>1186</th>\n",
       "      <td>-12.47</td>\n",
       "      <td>female</td>\n",
       "      <td>yes</td>\n",
       "      <td>9.0</td>\n",
       "      <td>72.0</td>\n",
       "      <td>False</td>\n",
       "    </tr>\n",
       "    <tr>\n",
       "      <th>1269</th>\n",
       "      <td>-0.46</td>\n",
       "      <td>female</td>\n",
       "      <td>no</td>\n",
       "      <td>34.0</td>\n",
       "      <td>76.0</td>\n",
       "      <td>False</td>\n",
       "    </tr>\n",
       "    <tr>\n",
       "      <th>1355</th>\n",
       "      <td>-0.48</td>\n",
       "      <td>male</td>\n",
       "      <td>no</td>\n",
       "      <td>13.0</td>\n",
       "      <td>44.0</td>\n",
       "      <td>False</td>\n",
       "    </tr>\n",
       "    <tr>\n",
       "      <th>1528</th>\n",
       "      <td>-6.71</td>\n",
       "      <td>male</td>\n",
       "      <td>no</td>\n",
       "      <td>22.0</td>\n",
       "      <td>47.0</td>\n",
       "      <td>False</td>\n",
       "    </tr>\n",
       "  </tbody>\n",
       "</table>\n",
       "</div>"
      ],
      "text/plain": [
       "      purch_amt  gender card_on_file   age  days_since_last_purch  loyalty\n",
       "103       -6.79  female          yes  18.0                   67.0    False\n",
       "115      -12.85  female          yes  23.0                   63.0    False\n",
       "119       -5.00    male           no  23.0                   69.0    False\n",
       "126       -3.85    male           no  21.0                   51.0    False\n",
       "163       -1.34  female          yes  16.0                   45.0    False\n",
       "481       -0.63    male           no  35.0                   54.0    False\n",
       "497       -3.24    male           no  13.0                   78.0    False\n",
       "576       -1.60  female          yes  29.0                   54.0    False\n",
       "639      -15.68  female           no  30.0                   51.0    False\n",
       "685       -6.56  female          yes  27.0                   75.0    False\n",
       "746      -14.78  female           no  36.0                   63.0    False\n",
       "750       -3.55    male           no  16.0                   60.0    False\n",
       "766       -1.50    male           no  11.0                   60.0    False\n",
       "815      -16.89    male           no  49.0                   52.0    False\n",
       "869       -8.86    male           no  28.0                   53.0    False\n",
       "1060      -6.49  female           no  29.0                   51.0    False\n",
       "1186     -12.47  female          yes   9.0                   72.0    False\n",
       "1269      -0.46  female           no  34.0                   76.0    False\n",
       "1355      -0.48    male           no  13.0                   44.0    False\n",
       "1528      -6.71    male           no  22.0                   47.0    False"
      ]
     },
     "execution_count": 7,
     "metadata": {},
     "output_type": "execute_result"
    }
   ],
   "source": [
    "loyalty_program[loyalty_program.purch_amt < 0].head(20)"
   ]
  },
  {
   "cell_type": "markdown",
   "metadata": {},
   "source": [
    "No noticeable pattern that would indicate a trend we could fill/adjust the data on - let's remove these data points from our analysis"
   ]
  },
  {
   "cell_type": "code",
   "execution_count": 8,
   "metadata": {
    "collapsed": true
   },
   "outputs": [],
   "source": [
    "loyalty_program = loyalty_program[loyalty_program.purch_amt > 0]"
   ]
  },
  {
   "cell_type": "code",
   "execution_count": 9,
   "metadata": {
    "scrolled": true
   },
   "outputs": [
    {
     "data": {
      "text/plain": [
       "<matplotlib.axes._subplots.AxesSubplot at 0x10c80ab38>"
      ]
     },
     "execution_count": 9,
     "metadata": {},
     "output_type": "execute_result"
    },
    {
     "data": {
      "image/png": "[encoded data removed]",
      "text/plain": [
       "<matplotlib.figure.Figure at 0x10c7e0588>"
      ]
     },
     "metadata": {},
     "output_type": "display_data"
    }
   ],
   "source": [
    "sns.boxplot(x='loyalty', y='purch_amt', data=loyalty_program)"
   ]
  },
  {
   "cell_type": "code",
   "execution_count": 10,
   "metadata": {},
   "outputs": [
    {
     "data": {
      "text/plain": [
       "Ttest_indResult(statistic=75.67199448826128, pvalue=0.0)"
      ]
     },
     "execution_count": 10,
     "metadata": {},
     "output_type": "execute_result"
    }
   ],
   "source": [
    "a = loyalty_program[loyalty_program.loyalty == True].purch_amt\n",
    "b = loyalty_program[loyalty_program.loyalty == False].purch_amt\n",
    "stats.ttest_ind(a, b)"
   ]
  },
  {
   "cell_type": "markdown",
   "metadata": {},
   "source": [
    "We have a significant predictor here, indicating that users who are in the Loyalty Program also spend more on a whole"
   ]
  },
  {
   "cell_type": "markdown",
   "metadata": {},
   "source": [
    "#### Age"
   ]
  },
  {
   "cell_type": "code",
   "execution_count": 11,
   "metadata": {
    "scrolled": false
   },
   "outputs": [
    {
     "data": {
      "text/plain": [
       "<matplotlib.axes._subplots.AxesSubplot at 0x10bc9c5c0>"
      ]
     },
     "execution_count": 11,
     "metadata": {},
     "output_type": "execute_result"
    },
    {
     "data": {
      "image/png": "[encoded data removed]",
      "text/plain": [
       "<matplotlib.figure.Figure at 0x1069738d0>"
      ]
     },
     "metadata": {},
     "output_type": "display_data"
    }
   ],
   "source": [
    "sns.distplot(loyalty_program.age)"
   ]
  },
  {
   "cell_type": "markdown",
   "metadata": {},
   "source": [
    "Normal distribution indicating t-test eligibility\n",
    "\n",
    "Another instance of age values below 0"
   ]
  },
  {
   "cell_type": "code",
   "execution_count": 12,
   "metadata": {
    "scrolled": true
   },
   "outputs": [
    {
     "data": {
      "text/html": [
       "<div>\n",
       "<style>\n",
       "    .dataframe thead tr:only-child th {\n",
       "        text-align: right;\n",
       "    }\n",
       "\n",
       "    .dataframe thead th {\n",
       "        text-align: left;\n",
       "    }\n",
       "\n",
       "    .dataframe tbody tr th {\n",
       "        vertical-align: top;\n",
       "    }\n",
       "</style>\n",
       "<table border=\"1\" class=\"dataframe\">\n",
       "  <thead>\n",
       "    <tr style=\"text-align: right;\">\n",
       "      <th></th>\n",
       "      <th>purch_amt</th>\n",
       "      <th>gender</th>\n",
       "      <th>card_on_file</th>\n",
       "      <th>age</th>\n",
       "      <th>days_since_last_purch</th>\n",
       "      <th>loyalty</th>\n",
       "    </tr>\n",
       "  </thead>\n",
       "  <tbody>\n",
       "    <tr>\n",
       "      <th>310</th>\n",
       "      <td>41.28</td>\n",
       "      <td>female</td>\n",
       "      <td>yes</td>\n",
       "      <td>-6.0</td>\n",
       "      <td>63.0</td>\n",
       "      <td>False</td>\n",
       "    </tr>\n",
       "    <tr>\n",
       "      <th>361</th>\n",
       "      <td>17.58</td>\n",
       "      <td>male</td>\n",
       "      <td>no</td>\n",
       "      <td>-3.0</td>\n",
       "      <td>39.0</td>\n",
       "      <td>False</td>\n",
       "    </tr>\n",
       "    <tr>\n",
       "      <th>771</th>\n",
       "      <td>63.74</td>\n",
       "      <td>female</td>\n",
       "      <td>yes</td>\n",
       "      <td>-1.0</td>\n",
       "      <td>68.0</td>\n",
       "      <td>False</td>\n",
       "    </tr>\n",
       "    <tr>\n",
       "      <th>828</th>\n",
       "      <td>1.56</td>\n",
       "      <td>female</td>\n",
       "      <td>no</td>\n",
       "      <td>-3.0</td>\n",
       "      <td>64.0</td>\n",
       "      <td>False</td>\n",
       "    </tr>\n",
       "    <tr>\n",
       "      <th>988</th>\n",
       "      <td>47.45</td>\n",
       "      <td>male</td>\n",
       "      <td>yes</td>\n",
       "      <td>-2.0</td>\n",
       "      <td>70.0</td>\n",
       "      <td>False</td>\n",
       "    </tr>\n",
       "    <tr>\n",
       "      <th>1362</th>\n",
       "      <td>18.87</td>\n",
       "      <td>female</td>\n",
       "      <td>yes</td>\n",
       "      <td>-8.0</td>\n",
       "      <td>92.0</td>\n",
       "      <td>False</td>\n",
       "    </tr>\n",
       "    <tr>\n",
       "      <th>1906</th>\n",
       "      <td>49.32</td>\n",
       "      <td>male</td>\n",
       "      <td>yes</td>\n",
       "      <td>-8.0</td>\n",
       "      <td>33.0</td>\n",
       "      <td>False</td>\n",
       "    </tr>\n",
       "    <tr>\n",
       "      <th>2042</th>\n",
       "      <td>46.50</td>\n",
       "      <td>female</td>\n",
       "      <td>yes</td>\n",
       "      <td>-2.0</td>\n",
       "      <td>73.0</td>\n",
       "      <td>False</td>\n",
       "    </tr>\n",
       "    <tr>\n",
       "      <th>2536</th>\n",
       "      <td>82.48</td>\n",
       "      <td>female</td>\n",
       "      <td>yes</td>\n",
       "      <td>-2.0</td>\n",
       "      <td>44.0</td>\n",
       "      <td>False</td>\n",
       "    </tr>\n",
       "    <tr>\n",
       "      <th>2770</th>\n",
       "      <td>37.30</td>\n",
       "      <td>female</td>\n",
       "      <td>no</td>\n",
       "      <td>-8.0</td>\n",
       "      <td>20.0</td>\n",
       "      <td>False</td>\n",
       "    </tr>\n",
       "    <tr>\n",
       "      <th>2780</th>\n",
       "      <td>53.67</td>\n",
       "      <td>male</td>\n",
       "      <td>yes</td>\n",
       "      <td>-1.0</td>\n",
       "      <td>40.0</td>\n",
       "      <td>False</td>\n",
       "    </tr>\n",
       "    <tr>\n",
       "      <th>2814</th>\n",
       "      <td>34.16</td>\n",
       "      <td>male</td>\n",
       "      <td>no</td>\n",
       "      <td>-2.0</td>\n",
       "      <td>54.0</td>\n",
       "      <td>False</td>\n",
       "    </tr>\n",
       "    <tr>\n",
       "      <th>2857</th>\n",
       "      <td>56.70</td>\n",
       "      <td>female</td>\n",
       "      <td>no</td>\n",
       "      <td>-2.0</td>\n",
       "      <td>65.0</td>\n",
       "      <td>False</td>\n",
       "    </tr>\n",
       "    <tr>\n",
       "      <th>2925</th>\n",
       "      <td>68.89</td>\n",
       "      <td>male</td>\n",
       "      <td>no</td>\n",
       "      <td>-2.0</td>\n",
       "      <td>55.0</td>\n",
       "      <td>False</td>\n",
       "    </tr>\n",
       "    <tr>\n",
       "      <th>3011</th>\n",
       "      <td>29.55</td>\n",
       "      <td>male</td>\n",
       "      <td>yes</td>\n",
       "      <td>-4.0</td>\n",
       "      <td>73.0</td>\n",
       "      <td>False</td>\n",
       "    </tr>\n",
       "    <tr>\n",
       "      <th>3160</th>\n",
       "      <td>20.22</td>\n",
       "      <td>female</td>\n",
       "      <td>yes</td>\n",
       "      <td>-5.0</td>\n",
       "      <td>71.0</td>\n",
       "      <td>False</td>\n",
       "    </tr>\n",
       "    <tr>\n",
       "      <th>4046</th>\n",
       "      <td>39.70</td>\n",
       "      <td>female</td>\n",
       "      <td>yes</td>\n",
       "      <td>-2.0</td>\n",
       "      <td>46.0</td>\n",
       "      <td>False</td>\n",
       "    </tr>\n",
       "    <tr>\n",
       "      <th>4488</th>\n",
       "      <td>55.32</td>\n",
       "      <td>female</td>\n",
       "      <td>yes</td>\n",
       "      <td>-3.0</td>\n",
       "      <td>93.0</td>\n",
       "      <td>False</td>\n",
       "    </tr>\n",
       "    <tr>\n",
       "      <th>4616</th>\n",
       "      <td>33.57</td>\n",
       "      <td>male</td>\n",
       "      <td>no</td>\n",
       "      <td>-4.0</td>\n",
       "      <td>58.0</td>\n",
       "      <td>False</td>\n",
       "    </tr>\n",
       "    <tr>\n",
       "      <th>4741</th>\n",
       "      <td>18.99</td>\n",
       "      <td>male</td>\n",
       "      <td>no</td>\n",
       "      <td>-6.0</td>\n",
       "      <td>65.0</td>\n",
       "      <td>False</td>\n",
       "    </tr>\n",
       "  </tbody>\n",
       "</table>\n",
       "</div>"
      ],
      "text/plain": [
       "      purch_amt  gender card_on_file  age  days_since_last_purch  loyalty\n",
       "310       41.28  female          yes -6.0                   63.0    False\n",
       "361       17.58    male           no -3.0                   39.0    False\n",
       "771       63.74  female          yes -1.0                   68.0    False\n",
       "828        1.56  female           no -3.0                   64.0    False\n",
       "988       47.45    male          yes -2.0                   70.0    False\n",
       "1362      18.87  female          yes -8.0                   92.0    False\n",
       "1906      49.32    male          yes -8.0                   33.0    False\n",
       "2042      46.50  female          yes -2.0                   73.0    False\n",
       "2536      82.48  female          yes -2.0                   44.0    False\n",
       "2770      37.30  female           no -8.0                   20.0    False\n",
       "2780      53.67    male          yes -1.0                   40.0    False\n",
       "2814      34.16    male           no -2.0                   54.0    False\n",
       "2857      56.70  female           no -2.0                   65.0    False\n",
       "2925      68.89    male           no -2.0                   55.0    False\n",
       "3011      29.55    male          yes -4.0                   73.0    False\n",
       "3160      20.22  female          yes -5.0                   71.0    False\n",
       "4046      39.70  female          yes -2.0                   46.0    False\n",
       "4488      55.32  female          yes -3.0                   93.0    False\n",
       "4616      33.57    male           no -4.0                   58.0    False\n",
       "4741      18.99    male           no -6.0                   65.0    False"
      ]
     },
     "execution_count": 12,
     "metadata": {},
     "output_type": "execute_result"
    }
   ],
   "source": [
    "loyalty_program[loyalty_program.age < 0].head(20)"
   ]
  },
  {
   "cell_type": "markdown",
   "metadata": {},
   "source": [
    "No noticeable pattern again  - let's remove these data points from our analysis"
   ]
  },
  {
   "cell_type": "code",
   "execution_count": 13,
   "metadata": {
    "collapsed": true
   },
   "outputs": [],
   "source": [
    "loyalty_program = loyalty_program[loyalty_program.age > 0]"
   ]
  },
  {
   "cell_type": "code",
   "execution_count": 14,
   "metadata": {
    "scrolled": true
   },
   "outputs": [
    {
     "data": {
      "text/plain": [
       "<matplotlib.axes._subplots.AxesSubplot at 0x10c903550>"
      ]
     },
     "execution_count": 14,
     "metadata": {},
     "output_type": "execute_result"
    },
    {
     "data": {
      "image/png": "[encoded data removed]",
      "text/plain": [
       "<matplotlib.figure.Figure at 0x10e3bc1d0>"
      ]
     },
     "metadata": {},
     "output_type": "display_data"
    }
   ],
   "source": [
    "sns.boxplot(x='loyalty', y='age', data=loyalty_program)"
   ]
  },
  {
   "cell_type": "code",
   "execution_count": 15,
   "metadata": {},
   "outputs": [
    {
     "data": {
      "text/plain": [
       "Ttest_indResult(statistic=63.02165492482211, pvalue=0.0)"
      ]
     },
     "execution_count": 15,
     "metadata": {},
     "output_type": "execute_result"
    }
   ],
   "source": [
    "a = loyalty_program[loyalty_program.loyalty == True].age\n",
    "b = loyalty_program[loyalty_program.loyalty == False].age\n",
    "stats.ttest_ind(a, b)"
   ]
  },
  {
   "cell_type": "markdown",
   "metadata": {},
   "source": [
    "Another significant predictor indicating loyalty program users tend to be older"
   ]
  },
  {
   "cell_type": "markdown",
   "metadata": {},
   "source": [
    "#### Days Since Last Purchase"
   ]
  },
  {
   "cell_type": "code",
   "execution_count": 16,
   "metadata": {
    "scrolled": true
   },
   "outputs": [
    {
     "data": {
      "text/plain": [
       "<matplotlib.axes._subplots.AxesSubplot at 0x10e453748>"
      ]
     },
     "execution_count": 16,
     "metadata": {},
     "output_type": "execute_result"
    },
    {
     "data": {
      "image/png": "[encoded data removed]",
      "text/plain": [
       "<matplotlib.figure.Figure at 0x10ebb9208>"
      ]
     },
     "metadata": {},
     "output_type": "display_data"
    }
   ],
   "source": [
    "sns.distplot(loyalty_program.days_since_last_purch)"
   ]
  },
  {
   "cell_type": "markdown",
   "metadata": {},
   "source": [
    "Normal distribution indicating t-test eligibility\n",
    "\n",
    "Let's check amount's below 0 again"
   ]
  },
  {
   "cell_type": "code",
   "execution_count": 17,
   "metadata": {
    "scrolled": true
   },
   "outputs": [
    {
     "data": {
      "text/html": [
       "<div>\n",
       "<style>\n",
       "    .dataframe thead tr:only-child th {\n",
       "        text-align: right;\n",
       "    }\n",
       "\n",
       "    .dataframe thead th {\n",
       "        text-align: left;\n",
       "    }\n",
       "\n",
       "    .dataframe tbody tr th {\n",
       "        vertical-align: top;\n",
       "    }\n",
       "</style>\n",
       "<table border=\"1\" class=\"dataframe\">\n",
       "  <thead>\n",
       "    <tr style=\"text-align: right;\">\n",
       "      <th></th>\n",
       "      <th>purch_amt</th>\n",
       "      <th>gender</th>\n",
       "      <th>card_on_file</th>\n",
       "      <th>age</th>\n",
       "      <th>days_since_last_purch</th>\n",
       "      <th>loyalty</th>\n",
       "    </tr>\n",
       "  </thead>\n",
       "  <tbody>\n",
       "    <tr>\n",
       "      <th>5354</th>\n",
       "      <td>57.82</td>\n",
       "      <td>male</td>\n",
       "      <td>no</td>\n",
       "      <td>21.0</td>\n",
       "      <td>-8.0</td>\n",
       "      <td>True</td>\n",
       "    </tr>\n",
       "    <tr>\n",
       "      <th>7288</th>\n",
       "      <td>68.12</td>\n",
       "      <td>female</td>\n",
       "      <td>no</td>\n",
       "      <td>36.0</td>\n",
       "      <td>-3.0</td>\n",
       "      <td>False</td>\n",
       "    </tr>\n",
       "    <tr>\n",
       "      <th>8059</th>\n",
       "      <td>54.15</td>\n",
       "      <td>male</td>\n",
       "      <td>yes</td>\n",
       "      <td>43.0</td>\n",
       "      <td>-5.0</td>\n",
       "      <td>True</td>\n",
       "    </tr>\n",
       "    <tr>\n",
       "      <th>12612</th>\n",
       "      <td>56.48</td>\n",
       "      <td>male</td>\n",
       "      <td>no</td>\n",
       "      <td>25.0</td>\n",
       "      <td>-4.0</td>\n",
       "      <td>True</td>\n",
       "    </tr>\n",
       "    <tr>\n",
       "      <th>16763</th>\n",
       "      <td>49.73</td>\n",
       "      <td>female</td>\n",
       "      <td>yes</td>\n",
       "      <td>2.0</td>\n",
       "      <td>-3.0</td>\n",
       "      <td>True</td>\n",
       "    </tr>\n",
       "    <tr>\n",
       "      <th>16872</th>\n",
       "      <td>66.34</td>\n",
       "      <td>female</td>\n",
       "      <td>no</td>\n",
       "      <td>40.0</td>\n",
       "      <td>-1.0</td>\n",
       "      <td>True</td>\n",
       "    </tr>\n",
       "    <tr>\n",
       "      <th>21659</th>\n",
       "      <td>57.97</td>\n",
       "      <td>female</td>\n",
       "      <td>yes</td>\n",
       "      <td>43.0</td>\n",
       "      <td>-1.0</td>\n",
       "      <td>True</td>\n",
       "    </tr>\n",
       "    <tr>\n",
       "      <th>33000</th>\n",
       "      <td>26.27</td>\n",
       "      <td>male</td>\n",
       "      <td>yes</td>\n",
       "      <td>47.0</td>\n",
       "      <td>-1.0</td>\n",
       "      <td>True</td>\n",
       "    </tr>\n",
       "    <tr>\n",
       "      <th>35546</th>\n",
       "      <td>40.48</td>\n",
       "      <td>male</td>\n",
       "      <td>no</td>\n",
       "      <td>28.0</td>\n",
       "      <td>-1.0</td>\n",
       "      <td>True</td>\n",
       "    </tr>\n",
       "    <tr>\n",
       "      <th>40532</th>\n",
       "      <td>42.69</td>\n",
       "      <td>male</td>\n",
       "      <td>yes</td>\n",
       "      <td>6.0</td>\n",
       "      <td>-1.0</td>\n",
       "      <td>False</td>\n",
       "    </tr>\n",
       "    <tr>\n",
       "      <th>46239</th>\n",
       "      <td>46.13</td>\n",
       "      <td>male</td>\n",
       "      <td>yes</td>\n",
       "      <td>28.0</td>\n",
       "      <td>-3.0</td>\n",
       "      <td>True</td>\n",
       "    </tr>\n",
       "    <tr>\n",
       "      <th>47853</th>\n",
       "      <td>31.21</td>\n",
       "      <td>male</td>\n",
       "      <td>yes</td>\n",
       "      <td>24.0</td>\n",
       "      <td>-1.0</td>\n",
       "      <td>False</td>\n",
       "    </tr>\n",
       "    <tr>\n",
       "      <th>55087</th>\n",
       "      <td>53.84</td>\n",
       "      <td>female</td>\n",
       "      <td>yes</td>\n",
       "      <td>22.0</td>\n",
       "      <td>-6.0</td>\n",
       "      <td>False</td>\n",
       "    </tr>\n",
       "    <tr>\n",
       "      <th>58666</th>\n",
       "      <td>68.31</td>\n",
       "      <td>male</td>\n",
       "      <td>no</td>\n",
       "      <td>41.0</td>\n",
       "      <td>-5.0</td>\n",
       "      <td>False</td>\n",
       "    </tr>\n",
       "    <tr>\n",
       "      <th>69663</th>\n",
       "      <td>70.68</td>\n",
       "      <td>female</td>\n",
       "      <td>yes</td>\n",
       "      <td>35.0</td>\n",
       "      <td>-9.0</td>\n",
       "      <td>True</td>\n",
       "    </tr>\n",
       "    <tr>\n",
       "      <th>94626</th>\n",
       "      <td>75.34</td>\n",
       "      <td>female</td>\n",
       "      <td>yes</td>\n",
       "      <td>29.0</td>\n",
       "      <td>-6.0</td>\n",
       "      <td>True</td>\n",
       "    </tr>\n",
       "    <tr>\n",
       "      <th>100051</th>\n",
       "      <td>47.39</td>\n",
       "      <td>female</td>\n",
       "      <td>no</td>\n",
       "      <td>42.0</td>\n",
       "      <td>-5.0</td>\n",
       "      <td>True</td>\n",
       "    </tr>\n",
       "    <tr>\n",
       "      <th>109962</th>\n",
       "      <td>34.85</td>\n",
       "      <td>female</td>\n",
       "      <td>yes</td>\n",
       "      <td>4.0</td>\n",
       "      <td>-1.0</td>\n",
       "      <td>False</td>\n",
       "    </tr>\n",
       "  </tbody>\n",
       "</table>\n",
       "</div>"
      ],
      "text/plain": [
       "        purch_amt  gender card_on_file   age  days_since_last_purch  loyalty\n",
       "5354        57.82    male           no  21.0                   -8.0     True\n",
       "7288        68.12  female           no  36.0                   -3.0    False\n",
       "8059        54.15    male          yes  43.0                   -5.0     True\n",
       "12612       56.48    male           no  25.0                   -4.0     True\n",
       "16763       49.73  female          yes   2.0                   -3.0     True\n",
       "16872       66.34  female           no  40.0                   -1.0     True\n",
       "21659       57.97  female          yes  43.0                   -1.0     True\n",
       "33000       26.27    male          yes  47.0                   -1.0     True\n",
       "35546       40.48    male           no  28.0                   -1.0     True\n",
       "40532       42.69    male          yes   6.0                   -1.0    False\n",
       "46239       46.13    male          yes  28.0                   -3.0     True\n",
       "47853       31.21    male          yes  24.0                   -1.0    False\n",
       "55087       53.84  female          yes  22.0                   -6.0    False\n",
       "58666       68.31    male           no  41.0                   -5.0    False\n",
       "69663       70.68  female          yes  35.0                   -9.0     True\n",
       "94626       75.34  female          yes  29.0                   -6.0     True\n",
       "100051      47.39  female           no  42.0                   -5.0     True\n",
       "109962      34.85  female          yes   4.0                   -1.0    False"
      ]
     },
     "execution_count": 17,
     "metadata": {},
     "output_type": "execute_result"
    }
   ],
   "source": [
    "loyalty_program[loyalty_program.days_since_last_purch < 0].head(20)"
   ]
  },
  {
   "cell_type": "markdown",
   "metadata": {},
   "source": [
    "No noticeable pattern - we'll remove the data points"
   ]
  },
  {
   "cell_type": "code",
   "execution_count": 18,
   "metadata": {
    "collapsed": true
   },
   "outputs": [],
   "source": [
    "loyalty_program = loyalty_program[loyalty_program.days_since_last_purch > 0]"
   ]
  },
  {
   "cell_type": "code",
   "execution_count": 19,
   "metadata": {
    "scrolled": true
   },
   "outputs": [
    {
     "data": {
      "text/plain": [
       "<matplotlib.axes._subplots.AxesSubplot at 0x10eedbef0>"
      ]
     },
     "execution_count": 19,
     "metadata": {},
     "output_type": "execute_result"
    },
    {
     "data": {
      "image/png": "[encoded data removed]",
      "text/plain": [
       "<matplotlib.figure.Figure at 0x10c91f668>"
      ]
     },
     "metadata": {},
     "output_type": "display_data"
    }
   ],
   "source": [
    "sns.boxplot(x='loyalty', y='days_since_last_purch', data=loyalty_program)"
   ]
  },
  {
   "cell_type": "code",
   "execution_count": 20,
   "metadata": {},
   "outputs": [
    {
     "data": {
      "text/plain": [
       "Ttest_indResult(statistic=-177.06872661525824, pvalue=0.0)"
      ]
     },
     "execution_count": 20,
     "metadata": {},
     "output_type": "execute_result"
    }
   ],
   "source": [
    "a = loyalty_program[loyalty_program.loyalty == True].days_since_last_purch\n",
    "b = loyalty_program[loyalty_program.loyalty == False].days_since_last_purch\n",
    "stats.ttest_ind(a, b)"
   ]
  },
  {
   "cell_type": "markdown",
   "metadata": {},
   "source": [
    "We have a significant predictor here, indicating that users who go longer without purchasing are less likely to be in the loyalty program"
   ]
  },
  {
   "cell_type": "markdown",
   "metadata": {},
   "source": [
    "#### Gender"
   ]
  },
  {
   "cell_type": "code",
   "execution_count": 21,
   "metadata": {
    "scrolled": true
   },
   "outputs": [
    {
     "data": {
      "text/html": [
       "<div>\n",
       "<style>\n",
       "    .dataframe thead tr:only-child th {\n",
       "        text-align: right;\n",
       "    }\n",
       "\n",
       "    .dataframe thead th {\n",
       "        text-align: left;\n",
       "    }\n",
       "\n",
       "    .dataframe tbody tr th {\n",
       "        vertical-align: top;\n",
       "    }\n",
       "</style>\n",
       "<table border=\"1\" class=\"dataframe\">\n",
       "  <thead>\n",
       "    <tr style=\"text-align: right;\">\n",
       "      <th>loyalty</th>\n",
       "      <th>False</th>\n",
       "      <th>True</th>\n",
       "    </tr>\n",
       "    <tr>\n",
       "      <th>gender</th>\n",
       "      <th></th>\n",
       "      <th></th>\n",
       "    </tr>\n",
       "  </thead>\n",
       "  <tbody>\n",
       "    <tr>\n",
       "      <th>female</th>\n",
       "      <td>0.831758</td>\n",
       "      <td>0.168242</td>\n",
       "    </tr>\n",
       "    <tr>\n",
       "      <th>male</th>\n",
       "      <td>0.829915</td>\n",
       "      <td>0.170085</td>\n",
       "    </tr>\n",
       "  </tbody>\n",
       "</table>\n",
       "</div>"
      ],
      "text/plain": [
       "loyalty     False     True \n",
       "gender                     \n",
       "female   0.831758  0.168242\n",
       "male     0.829915  0.170085"
      ]
     },
     "execution_count": 21,
     "metadata": {},
     "output_type": "execute_result"
    }
   ],
   "source": [
    "# Take crosstab of gender by loyalty\n",
    "gender = pd.crosstab(loyalty_program.gender, loyalty_program.loyalty)\n",
    "gender.apply(lambda x: x/x.sum(), axis=1)"
   ]
  },
  {
   "cell_type": "markdown",
   "metadata": {},
   "source": [
    "Gender appears to have virtually no impact, but let's run a chi squared test just to be sure"
   ]
  },
  {
   "cell_type": "code",
   "execution_count": 22,
   "metadata": {
    "scrolled": true
   },
   "outputs": [
    {
     "data": {
      "text/plain": [
       "Power_divergenceResult(statistic=array([0.49623721, 1.54212196]), pvalue=array([0.48115814, 0.21430223]))"
      ]
     },
     "execution_count": 22,
     "metadata": {},
     "output_type": "execute_result"
    }
   ],
   "source": [
    "stats.chisquare(gender)"
   ]
  },
  {
   "cell_type": "markdown",
   "metadata": {},
   "source": [
    "Indeed, looks as if gender is not a factor"
   ]
  },
  {
   "cell_type": "markdown",
   "metadata": {},
   "source": [
    "#### Card on File"
   ]
  },
  {
   "cell_type": "code",
   "execution_count": 23,
   "metadata": {
    "scrolled": true
   },
   "outputs": [
    {
     "data": {
      "text/html": [
       "<div>\n",
       "<style>\n",
       "    .dataframe thead tr:only-child th {\n",
       "        text-align: right;\n",
       "    }\n",
       "\n",
       "    .dataframe thead th {\n",
       "        text-align: left;\n",
       "    }\n",
       "\n",
       "    .dataframe tbody tr th {\n",
       "        vertical-align: top;\n",
       "    }\n",
       "</style>\n",
       "<table border=\"1\" class=\"dataframe\">\n",
       "  <thead>\n",
       "    <tr style=\"text-align: right;\">\n",
       "      <th>loyalty</th>\n",
       "      <th>False</th>\n",
       "      <th>True</th>\n",
       "    </tr>\n",
       "    <tr>\n",
       "      <th>card_on_file</th>\n",
       "      <th></th>\n",
       "      <th></th>\n",
       "    </tr>\n",
       "  </thead>\n",
       "  <tbody>\n",
       "    <tr>\n",
       "      <th>no</th>\n",
       "      <td>0.830717</td>\n",
       "      <td>0.169283</td>\n",
       "    </tr>\n",
       "    <tr>\n",
       "      <th>yes</th>\n",
       "      <td>0.830949</td>\n",
       "      <td>0.169051</td>\n",
       "    </tr>\n",
       "  </tbody>\n",
       "</table>\n",
       "</div>"
      ],
      "text/plain": [
       "loyalty          False     True \n",
       "card_on_file                    \n",
       "no            0.830717  0.169283\n",
       "yes           0.830949  0.169051"
      ]
     },
     "execution_count": 23,
     "metadata": {},
     "output_type": "execute_result"
    }
   ],
   "source": [
    "# Take crosstab of gender by loyalty\n",
    "card_on_file = pd.crosstab(loyalty_program.card_on_file, loyalty_program.loyalty)\n",
    "card_on_file.apply(lambda x: x/x.sum(), axis=1)"
   ]
  },
  {
   "cell_type": "markdown",
   "metadata": {},
   "source": [
    "Again it appears (oddly enough) that someone have a card on file is not predictive of whether they are in the loyalty program"
   ]
  },
  {
   "cell_type": "code",
   "execution_count": 24,
   "metadata": {
    "scrolled": true
   },
   "outputs": [
    {
     "data": {
      "text/plain": [
       "Power_divergenceResult(statistic=array([0.04466135, 0.0004532 ]), pvalue=array([0.83262797, 0.98301561]))"
      ]
     },
     "execution_count": 24,
     "metadata": {},
     "output_type": "execute_result"
    }
   ],
   "source": [
    "stats.chisquare(card_on_file)"
   ]
  },
  {
   "cell_type": "markdown",
   "metadata": {},
   "source": [
    "## Feature Exploration - X/X"
   ]
  },
  {
   "cell_type": "markdown",
   "metadata": {},
   "source": [
    "Next, we'll take a look at how the features relate to each other. First up, we'll plot the continuous variables relative to each other"
   ]
  },
  {
   "cell_type": "code",
   "execution_count": 25,
   "metadata": {
    "scrolled": true
   },
   "outputs": [
    {
     "data": {
      "image/png": "[encoded data removed]",
      "text/plain": [
       "<matplotlib.figure.Figure at 0x10cb286a0>"
      ]
     },
     "metadata": {},
     "output_type": "display_data"
    }
   ],
   "source": [
    "# Break out continuous vars for analysis\n",
    "cont_vars = loyalty_program[['purch_amt','age','days_since_last_purch']]\n",
    "g = sns.PairGrid(cont_vars, despine=True)\n",
    "\n",
    "g.map_diag(sns.distplot)\n",
    "g.map_offdiag(plt.scatter)\n",
    "\n",
    "plt.show()"
   ]
  },
  {
   "cell_type": "code",
   "execution_count": 26,
   "metadata": {},
   "outputs": [
    {
     "name": "stdout",
     "output_type": "stream",
     "text": [
      "                       purch_amt       age  days_since_last_purch\n",
      "purch_amt               1.000000  0.039604              -0.098399\n",
      "age                     0.039604  1.000000              -0.084786\n",
      "days_since_last_purch  -0.098399 -0.084786               1.000000\n"
     ]
    },
    {
     "data": {
      "image/png": "[encoded data removed]",
      "text/plain": [
       "<matplotlib.figure.Figure at 0x107d406d8>"
      ]
     },
     "metadata": {},
     "output_type": "display_data"
    }
   ],
   "source": [
    "# Make the correlation matrix.\n",
    "corrmat = cont_vars.corr()\n",
    "print(corrmat)\n",
    "\n",
    "# Draw the heatmap using seaborn.\n",
    "color = sns.diverging_palette(250, 250, s=90, l=80, sep=5, n=5, center='dark')\n",
    "ax = sns.heatmap(corrmat, center=0, annot=True, linewidths=.5, cmap=color, square=True)\n",
    "plt.show()"
   ]
  },
  {
   "cell_type": "markdown",
   "metadata": {},
   "source": [
    "No evidence of linearity.\n",
    "\n",
    "With our feature's normal distributions, lack of collinearity, and lack of predictive power in our categorical features it's starting to look like a Naive Bayes model will be a great predictor here\n",
    "\n",
    "----"
   ]
  },
  {
   "cell_type": "markdown",
   "metadata": {},
   "source": [
    "Now we'll look at some of the categorical variables as they relate to our continuous ones"
   ]
  },
  {
   "cell_type": "code",
   "execution_count": 27,
   "metadata": {},
   "outputs": [
    {
     "data": {
      "image/png": "[encoded data removed]",
      "text/plain": [
       "<matplotlib.figure.Figure at 0x10f24cdd8>"
      ]
     },
     "metadata": {},
     "output_type": "display_data"
    }
   ],
   "source": [
    "sns.boxplot(x='gender', y='purch_amt', data=loyalty_program)\n",
    "sns.boxplot(x='card_on_file', y='purch_amt', data=loyalty_program)\n",
    "plt.show()"
   ]
  },
  {
   "cell_type": "code",
   "execution_count": 28,
   "metadata": {
    "scrolled": true
   },
   "outputs": [
    {
     "data": {
      "image/png": "[encoded data removed]",
      "text/plain": [
       "<matplotlib.figure.Figure at 0x10b337ef0>"
      ]
     },
     "metadata": {},
     "output_type": "display_data"
    }
   ],
   "source": [
    "sns.boxplot(x='gender', y='age', data=loyalty_program)\n",
    "sns.boxplot(x='card_on_file', y='age', data=loyalty_program)\n",
    "plt.show()"
   ]
  },
  {
   "cell_type": "code",
   "execution_count": 29,
   "metadata": {},
   "outputs": [
    {
     "data": {
      "image/png": "[encoded data removed]",
      "text/plain": [
       "<matplotlib.figure.Figure at 0x10f2b3278>"
      ]
     },
     "metadata": {},
     "output_type": "display_data"
    }
   ],
   "source": [
    "sns.boxplot(x='gender', y='days_since_last_purch', data=loyalty_program)\n",
    "sns.boxplot(x='card_on_file', y='days_since_last_purch', data=loyalty_program)\n",
    "plt.show()"
   ]
  },
  {
   "cell_type": "markdown",
   "metadata": {},
   "source": [
    "Clearly our categorical variables have no value for our models in this situation."
   ]
  },
  {
   "cell_type": "markdown",
   "metadata": {},
   "source": [
    "## Modeling"
   ]
  },
  {
   "cell_type": "markdown",
   "metadata": {},
   "source": [
    "Based on our data exploration we know the following:\n",
    "\n",
    "- Our continuous variables are all significant predictors of whether someone is in the loyalty program\n",
    "- Our categorical variables are all NOT significant predictors of whether someone is in the loyalty program\n",
    "- Our continuous variables all have a normal distribution\n",
    "- Our continuous variables are not collinear"
   ]
  },
  {
   "cell_type": "markdown",
   "metadata": {},
   "source": [
    "With that in mind, there are 3 models I'd like to run:\n",
    "\n",
    "1) Naive Bayes - with the way the data is set up I feel most confidently about the success of this model\n",
    "\n",
    "2) Logistic Regression - with the non-linearity between our variables, this is a worthy model to try\n",
    "\n",
    "3) Random Forest Classifier - it's consistent performance in all instances serves as a good baseline to look at in all modeling problems"
   ]
  },
  {
   "cell_type": "code",
   "execution_count": 30,
   "metadata": {
    "collapsed": true
   },
   "outputs": [],
   "source": [
    "# Import desired supervised learning models\n",
    "from sklearn.naive_bayes import GaussianNB as NB\n",
    "from sklearn.linear_model import LogisticRegression as Log\n",
    "from sklearn.ensemble import RandomForestClassifier as RFC"
   ]
  },
  {
   "cell_type": "code",
   "execution_count": 31,
   "metadata": {},
   "outputs": [
    {
     "data": {
      "text/html": [
       "<div>\n",
       "<style>\n",
       "    .dataframe thead tr:only-child th {\n",
       "        text-align: right;\n",
       "    }\n",
       "\n",
       "    .dataframe thead th {\n",
       "        text-align: left;\n",
       "    }\n",
       "\n",
       "    .dataframe tbody tr th {\n",
       "        vertical-align: top;\n",
       "    }\n",
       "</style>\n",
       "<table border=\"1\" class=\"dataframe\">\n",
       "  <thead>\n",
       "    <tr style=\"text-align: right;\">\n",
       "      <th>col_0</th>\n",
       "      <th>count</th>\n",
       "    </tr>\n",
       "    <tr>\n",
       "      <th>row_0</th>\n",
       "      <th></th>\n",
       "    </tr>\n",
       "  </thead>\n",
       "  <tbody>\n",
       "    <tr>\n",
       "      <th>0</th>\n",
       "      <td>97534</td>\n",
       "    </tr>\n",
       "    <tr>\n",
       "      <th>1</th>\n",
       "      <td>19859</td>\n",
       "    </tr>\n",
       "  </tbody>\n",
       "</table>\n",
       "</div>"
      ],
      "text/plain": [
       "col_0  count\n",
       "row_0       \n",
       "0      97534\n",
       "1      19859"
      ]
     },
     "execution_count": 31,
     "metadata": {},
     "output_type": "execute_result"
    }
   ],
   "source": [
    "# Set X and Y predicts\n",
    "X = cont_vars\n",
    "Y = np.where(loyalty_program.loyalty == True, 1, 0)\n",
    "pd.crosstab(Y, 'count')"
   ]
  },
  {
   "cell_type": "markdown",
   "metadata": {},
   "source": [
    "Our data weights heavily in the direction of users not being in the loyalty program. Let's resample our data to a 50-50 split to improve the predictive capacity."
   ]
  },
  {
   "cell_type": "code",
   "execution_count": 32,
   "metadata": {
    "scrolled": true
   },
   "outputs": [
    {
     "data": {
      "text/html": [
       "<div>\n",
       "<style>\n",
       "    .dataframe thead tr:only-child th {\n",
       "        text-align: right;\n",
       "    }\n",
       "\n",
       "    .dataframe thead th {\n",
       "        text-align: left;\n",
       "    }\n",
       "\n",
       "    .dataframe tbody tr th {\n",
       "        vertical-align: top;\n",
       "    }\n",
       "</style>\n",
       "<table border=\"1\" class=\"dataframe\">\n",
       "  <thead>\n",
       "    <tr style=\"text-align: right;\">\n",
       "      <th>col_0</th>\n",
       "      <th>count</th>\n",
       "    </tr>\n",
       "    <tr>\n",
       "      <th>row_0</th>\n",
       "      <th></th>\n",
       "    </tr>\n",
       "  </thead>\n",
       "  <tbody>\n",
       "    <tr>\n",
       "      <th>0</th>\n",
       "      <td>19859</td>\n",
       "    </tr>\n",
       "    <tr>\n",
       "      <th>1</th>\n",
       "      <td>19859</td>\n",
       "    </tr>\n",
       "  </tbody>\n",
       "</table>\n",
       "</div>"
      ],
      "text/plain": [
       "col_0  count\n",
       "row_0       \n",
       "0      19859\n",
       "1      19859"
      ]
     },
     "execution_count": 32,
     "metadata": {},
     "output_type": "execute_result"
    }
   ],
   "source": [
    "# Resample data so that we have an equal distribution of positives and negaties\n",
    "from imblearn.under_sampling import RandomUnderSampler as sampler\n",
    "\n",
    "ratio = sampler(ratio={0:19859, 1:19859})\n",
    "X_train, Y_train = ratio.fit_sample(X, Y)\n",
    "\n",
    "pd.crosstab(Y_train, columns='count')"
   ]
  },
  {
   "cell_type": "markdown",
   "metadata": {},
   "source": [
    "Now let's run some of our models. We'll test our resampled data performance vs. our original set"
   ]
  },
  {
   "cell_type": "code",
   "execution_count": 33,
   "metadata": {},
   "outputs": [
    {
     "name": "stdout",
     "output_type": "stream",
     "text": [
      "[0.79330312 0.79204431 0.78600201 0.79808661 0.80991944 0.78499496\n",
      " 0.79028197 0.79204431 0.79431017 0.78916877]\n",
      "[0.79405841 0.78977845 0.78826788 0.79657603 0.8121853  0.78323263\n",
      " 0.78902316 0.7907855  0.79934542 0.79244332]\n",
      "[0.74169184 0.7479859  0.74446123 0.75780463 0.75755287 0.75579053\n",
      " 0.74345418 0.75251762 0.74244713 0.74332494]\n"
     ]
    }
   ],
   "source": [
    "# Import cross val tool\n",
    "from sklearn.model_selection import cross_val_score as cv\n",
    "\n",
    "# Set models\n",
    "nb = NB()\n",
    "log = Log()\n",
    "rfc = RFC()\n",
    "\n",
    "# Run models\n",
    "print(cv(nb,X_train,Y_train,cv=10))\n",
    "print(cv(log,X_train,Y_train,cv=10))\n",
    "print(cv(rfc,X_train,Y_train,cv=10))"
   ]
  },
  {
   "cell_type": "code",
   "execution_count": 34,
   "metadata": {},
   "outputs": [
    {
     "name": "stdout",
     "output_type": "stream",
     "text": [
      "[0.8669506  0.8649063  0.86567291 0.86899489 0.86438368 0.86889854\n",
      " 0.86813187 0.86779112 0.86940966 0.87016528]\n",
      "[0.86567291 0.86660988 0.86507666 0.8669506  0.86421331 0.86710963\n",
      " 0.86906892 0.8679615  0.86898373 0.86948373]\n",
      "[0.83884157 0.83611584 0.83424191 0.83986371 0.83703893 0.83950933\n",
      " 0.83959451 0.83806116 0.84112786 0.83906969]\n"
     ]
    }
   ],
   "source": [
    "# Run models\n",
    "print(cv(nb,X,Y,cv=10))\n",
    "print(cv(log,X,Y,cv=10))\n",
    "print(cv(rfc,X,Y,cv=10))"
   ]
  },
  {
   "cell_type": "markdown",
   "metadata": {},
   "source": [
    "It seems like our unsampled data set performs much better than our resampled see. Additional exploration in our confusion matrix (not included here) showed this to be gains in true positive and not true negative predictions.\n",
    "\n",
    "Additionally logistic regression and naive bayes models perform on par with each other. So we'll work with those two model type, using our original dataset for training\n",
    "\n",
    "Now let's see what the confusion matrices look like."
   ]
  },
  {
   "cell_type": "code",
   "execution_count": 35,
   "metadata": {},
   "outputs": [
    {
     "data": {
      "image/png": "[encoded data removed]",
      "text/plain": [
       "<matplotlib.figure.Figure at 0x110aecf60>"
      ]
     },
     "metadata": {},
     "output_type": "display_data"
    }
   ],
   "source": [
    "from sklearn.metrics import confusion_matrix as CM\n",
    "\n",
    "# Fit our Naive Bayes Model\n",
    "nb.fit(X,Y)\n",
    "y_predict = nb.predict(cont_vars)\n",
    "\n",
    "# Graph confusion matrix\n",
    "cm = CM(Y, y_predict)\n",
    "tn, fp, fn, tp = cm.ravel()\n",
    "cm = pd.DataFrame(cm)\n",
    "cm.loc[0,0] = tn/(tn+fn)\n",
    "cm.loc[0,1] = fn/(tn+fn)\n",
    "cm.loc[1,0] = fp/(tp+fp)\n",
    "cm.loc[1,1] = tp/(tp+fp)\n",
    "\n",
    "fig, ax = plt.subplots()\n",
    "im = ax.matshow(cm)\n",
    "for (i, j), z in np.ndenumerate(cm):\n",
    "    ax.text(j, i, '{:0.1f}'.format(z), ha='center', va='center',\n",
    "            bbox=dict(boxstyle='round', facecolor='white', edgecolor='0.3'))\n",
    "    \n",
    "plt.title('Confusion matrix')\n",
    "fig.colorbar(im)\n",
    "plt.ylabel('True label')\n",
    "plt.xlabel('Predicted label')\n",
    "plt.show()"
   ]
  },
  {
   "cell_type": "code",
   "execution_count": 36,
   "metadata": {
    "scrolled": true
   },
   "outputs": [
    {
     "data": {
      "image/png": "[encoded data removed]",
      "text/plain": [
       "<matplotlib.figure.Figure at 0x10db81e10>"
      ]
     },
     "metadata": {},
     "output_type": "display_data"
    }
   ],
   "source": [
    "# Fit our Naive Bayes Model\n",
    "log.fit(X,Y)\n",
    "y_predict = log.predict(cont_vars)\n",
    "\n",
    "# Graph confusion matrix\n",
    "cm = CM(Y, y_predict)\n",
    "tn, fp, fn, tp = cm.ravel()\n",
    "cm = pd.DataFrame(cm)\n",
    "cm.loc[0,0] = tn/(tn+fn)\n",
    "cm.loc[0,1] = fn/(tn+fn)\n",
    "cm.loc[1,0] = fp/(tp+fp)\n",
    "cm.loc[1,1] = tp/(tp+fp)\n",
    "\n",
    "fig, ax = plt.subplots()\n",
    "im = ax.matshow(cm)\n",
    "for (i, j), z in np.ndenumerate(cm):\n",
    "    ax.text(j, i, '{:0.1f}'.format(z), ha='center', va='center',\n",
    "            bbox=dict(boxstyle='round', facecolor='white', edgecolor='0.3'))\n",
    "    \n",
    "plt.title('Confusion matrix')\n",
    "fig.colorbar(im)\n",
    "plt.ylabel('True label')\n",
    "plt.xlabel('Predicted label')\n",
    "plt.show()"
   ]
  },
  {
   "cell_type": "markdown",
   "metadata": {},
   "source": [
    "90% True Negative and, more importantly, a 70% True Positive prediction rate for both our models. Not too shabby.\n",
    "\n",
    "-----"
   ]
  },
  {
   "cell_type": "markdown",
   "metadata": {},
   "source": [
    "Finally we'll use our model results to explore our data further and help target users NOT in the loyalty program that our models are telling us should be, or are close to joining.\n",
    "\n",
    "We'll do the following:\n",
    "\n",
    "1) Pull a list of all positive predictions that are NOT on the loyalty program\n",
    "\n",
    "2) Rank all negative predictions using probability scores"
   ]
  },
  {
   "cell_type": "code",
   "execution_count": 37,
   "metadata": {
    "collapsed": true,
    "scrolled": true
   },
   "outputs": [],
   "source": [
    "# Fit our Naive Bayes Model\n",
    "nb.fit(X,Y)\n",
    "\n",
    "\n",
    "# Extract predict and probability values\n",
    "nb_predict = nb.predict(cont_vars)\n",
    "nb_proba = nb.predict_proba(X)\n",
    "\n",
    "# Fit our Logistic Regression Model\n",
    "log.fit(X,Y)\n",
    "\n",
    "# Extract predict and probability values\n",
    "log_predict = log.predict(cont_vars)\n",
    "log_proba = log.predict_proba(cont_vars)\n",
    "\n",
    "\n",
    "# Add values to our dataframe for filtering\n",
    "loyalty_program['nb_predict'] = nb_predict\n",
    "loyalty_program['nb_proba'] = nb_proba[:,1]\n",
    "loyalty_program['log_predict'] = log_predict\n",
    "loyalty_program['log_proba'] = log_proba[:,1]"
   ]
  },
  {
   "cell_type": "markdown",
   "metadata": {},
   "source": [
    "Now we'll use composite results from both of our models to filter out valuable customers to target. First, let's pull a list of customers that both of our models spit out positive predictions for that are not yet on the loyalty program."
   ]
  },
  {
   "cell_type": "code",
   "execution_count": 38,
   "metadata": {},
   "outputs": [
    {
     "data": {
      "text/html": [
       "<div>\n",
       "<style>\n",
       "    .dataframe thead tr:only-child th {\n",
       "        text-align: right;\n",
       "    }\n",
       "\n",
       "    .dataframe thead th {\n",
       "        text-align: left;\n",
       "    }\n",
       "\n",
       "    .dataframe tbody tr th {\n",
       "        vertical-align: top;\n",
       "    }\n",
       "</style>\n",
       "<table border=\"1\" class=\"dataframe\">\n",
       "  <thead>\n",
       "    <tr style=\"text-align: right;\">\n",
       "      <th></th>\n",
       "      <th>purch_amt</th>\n",
       "      <th>gender</th>\n",
       "      <th>card_on_file</th>\n",
       "      <th>age</th>\n",
       "      <th>days_since_last_purch</th>\n",
       "      <th>loyalty</th>\n",
       "      <th>nb_predict</th>\n",
       "      <th>nb_proba</th>\n",
       "      <th>log_predict</th>\n",
       "      <th>log_proba</th>\n",
       "    </tr>\n",
       "  </thead>\n",
       "  <tbody>\n",
       "    <tr>\n",
       "      <th>34</th>\n",
       "      <td>60.93</td>\n",
       "      <td>female</td>\n",
       "      <td>no</td>\n",
       "      <td>28.0</td>\n",
       "      <td>35.0</td>\n",
       "      <td>False</td>\n",
       "      <td>1</td>\n",
       "      <td>0.564506</td>\n",
       "      <td>1</td>\n",
       "      <td>0.562987</td>\n",
       "    </tr>\n",
       "    <tr>\n",
       "      <th>43</th>\n",
       "      <td>56.50</td>\n",
       "      <td>female</td>\n",
       "      <td>yes</td>\n",
       "      <td>28.0</td>\n",
       "      <td>34.0</td>\n",
       "      <td>False</td>\n",
       "      <td>1</td>\n",
       "      <td>0.549029</td>\n",
       "      <td>1</td>\n",
       "      <td>0.554662</td>\n",
       "    </tr>\n",
       "    <tr>\n",
       "      <th>50</th>\n",
       "      <td>51.32</td>\n",
       "      <td>male</td>\n",
       "      <td>no</td>\n",
       "      <td>28.0</td>\n",
       "      <td>34.0</td>\n",
       "      <td>False</td>\n",
       "      <td>1</td>\n",
       "      <td>0.508909</td>\n",
       "      <td>1</td>\n",
       "      <td>0.515860</td>\n",
       "    </tr>\n",
       "    <tr>\n",
       "      <th>105</th>\n",
       "      <td>75.57</td>\n",
       "      <td>female</td>\n",
       "      <td>yes</td>\n",
       "      <td>40.0</td>\n",
       "      <td>36.0</td>\n",
       "      <td>False</td>\n",
       "      <td>1</td>\n",
       "      <td>0.786128</td>\n",
       "      <td>1</td>\n",
       "      <td>0.765831</td>\n",
       "    </tr>\n",
       "    <tr>\n",
       "      <th>130</th>\n",
       "      <td>32.78</td>\n",
       "      <td>female</td>\n",
       "      <td>yes</td>\n",
       "      <td>44.0</td>\n",
       "      <td>34.0</td>\n",
       "      <td>False</td>\n",
       "      <td>1</td>\n",
       "      <td>0.586921</td>\n",
       "      <td>1</td>\n",
       "      <td>0.572457</td>\n",
       "    </tr>\n",
       "    <tr>\n",
       "      <th>143</th>\n",
       "      <td>63.80</td>\n",
       "      <td>female</td>\n",
       "      <td>no</td>\n",
       "      <td>52.0</td>\n",
       "      <td>48.0</td>\n",
       "      <td>False</td>\n",
       "      <td>1</td>\n",
       "      <td>0.612840</td>\n",
       "      <td>1</td>\n",
       "      <td>0.555798</td>\n",
       "    </tr>\n",
       "    <tr>\n",
       "      <th>161</th>\n",
       "      <td>93.12</td>\n",
       "      <td>male</td>\n",
       "      <td>no</td>\n",
       "      <td>34.0</td>\n",
       "      <td>50.0</td>\n",
       "      <td>False</td>\n",
       "      <td>1</td>\n",
       "      <td>0.572112</td>\n",
       "      <td>1</td>\n",
       "      <td>0.505676</td>\n",
       "    </tr>\n",
       "    <tr>\n",
       "      <th>174</th>\n",
       "      <td>58.83</td>\n",
       "      <td>female</td>\n",
       "      <td>no</td>\n",
       "      <td>25.0</td>\n",
       "      <td>35.0</td>\n",
       "      <td>False</td>\n",
       "      <td>1</td>\n",
       "      <td>0.511068</td>\n",
       "      <td>1</td>\n",
       "      <td>0.510613</td>\n",
       "    </tr>\n",
       "    <tr>\n",
       "      <th>188</th>\n",
       "      <td>55.20</td>\n",
       "      <td>female</td>\n",
       "      <td>no</td>\n",
       "      <td>36.0</td>\n",
       "      <td>38.0</td>\n",
       "      <td>False</td>\n",
       "      <td>1</td>\n",
       "      <td>0.559327</td>\n",
       "      <td>1</td>\n",
       "      <td>0.543651</td>\n",
       "    </tr>\n",
       "    <tr>\n",
       "      <th>215</th>\n",
       "      <td>81.17</td>\n",
       "      <td>male</td>\n",
       "      <td>no</td>\n",
       "      <td>31.0</td>\n",
       "      <td>34.0</td>\n",
       "      <td>False</td>\n",
       "      <td>1</td>\n",
       "      <td>0.766306</td>\n",
       "      <td>1</td>\n",
       "      <td>0.752195</td>\n",
       "    </tr>\n",
       "    <tr>\n",
       "      <th>240</th>\n",
       "      <td>60.93</td>\n",
       "      <td>male</td>\n",
       "      <td>no</td>\n",
       "      <td>42.0</td>\n",
       "      <td>30.0</td>\n",
       "      <td>False</td>\n",
       "      <td>1</td>\n",
       "      <td>0.797918</td>\n",
       "      <td>1</td>\n",
       "      <td>0.808521</td>\n",
       "    </tr>\n",
       "    <tr>\n",
       "      <th>268</th>\n",
       "      <td>39.70</td>\n",
       "      <td>female</td>\n",
       "      <td>no</td>\n",
       "      <td>31.0</td>\n",
       "      <td>26.0</td>\n",
       "      <td>False</td>\n",
       "      <td>1</td>\n",
       "      <td>0.600703</td>\n",
       "      <td>1</td>\n",
       "      <td>0.658936</td>\n",
       "    </tr>\n",
       "    <tr>\n",
       "      <th>269</th>\n",
       "      <td>45.73</td>\n",
       "      <td>female</td>\n",
       "      <td>no</td>\n",
       "      <td>34.0</td>\n",
       "      <td>22.0</td>\n",
       "      <td>False</td>\n",
       "      <td>1</td>\n",
       "      <td>0.725656</td>\n",
       "      <td>1</td>\n",
       "      <td>0.800049</td>\n",
       "    </tr>\n",
       "    <tr>\n",
       "      <th>350</th>\n",
       "      <td>86.59</td>\n",
       "      <td>female</td>\n",
       "      <td>yes</td>\n",
       "      <td>33.0</td>\n",
       "      <td>33.0</td>\n",
       "      <td>False</td>\n",
       "      <td>1</td>\n",
       "      <td>0.827527</td>\n",
       "      <td>1</td>\n",
       "      <td>0.813320</td>\n",
       "    </tr>\n",
       "    <tr>\n",
       "      <th>366</th>\n",
       "      <td>64.15</td>\n",
       "      <td>female</td>\n",
       "      <td>yes</td>\n",
       "      <td>49.0</td>\n",
       "      <td>46.0</td>\n",
       "      <td>False</td>\n",
       "      <td>1</td>\n",
       "      <td>0.622661</td>\n",
       "      <td>1</td>\n",
       "      <td>0.571142</td>\n",
       "    </tr>\n",
       "    <tr>\n",
       "      <th>370</th>\n",
       "      <td>58.49</td>\n",
       "      <td>female</td>\n",
       "      <td>yes</td>\n",
       "      <td>32.0</td>\n",
       "      <td>36.0</td>\n",
       "      <td>False</td>\n",
       "      <td>1</td>\n",
       "      <td>0.574917</td>\n",
       "      <td>1</td>\n",
       "      <td>0.568768</td>\n",
       "    </tr>\n",
       "    <tr>\n",
       "      <th>379</th>\n",
       "      <td>31.91</td>\n",
       "      <td>female</td>\n",
       "      <td>yes</td>\n",
       "      <td>45.0</td>\n",
       "      <td>31.0</td>\n",
       "      <td>False</td>\n",
       "      <td>1</td>\n",
       "      <td>0.648058</td>\n",
       "      <td>1</td>\n",
       "      <td>0.648845</td>\n",
       "    </tr>\n",
       "    <tr>\n",
       "      <th>385</th>\n",
       "      <td>64.35</td>\n",
       "      <td>female</td>\n",
       "      <td>yes</td>\n",
       "      <td>45.0</td>\n",
       "      <td>35.0</td>\n",
       "      <td>False</td>\n",
       "      <td>1</td>\n",
       "      <td>0.781993</td>\n",
       "      <td>1</td>\n",
       "      <td>0.767191</td>\n",
       "    </tr>\n",
       "    <tr>\n",
       "      <th>452</th>\n",
       "      <td>76.37</td>\n",
       "      <td>female</td>\n",
       "      <td>no</td>\n",
       "      <td>48.0</td>\n",
       "      <td>46.0</td>\n",
       "      <td>False</td>\n",
       "      <td>1</td>\n",
       "      <td>0.703074</td>\n",
       "      <td>1</td>\n",
       "      <td>0.646912</td>\n",
       "    </tr>\n",
       "    <tr>\n",
       "      <th>496</th>\n",
       "      <td>31.53</td>\n",
       "      <td>female</td>\n",
       "      <td>no</td>\n",
       "      <td>31.0</td>\n",
       "      <td>28.0</td>\n",
       "      <td>False</td>\n",
       "      <td>1</td>\n",
       "      <td>0.513596</td>\n",
       "      <td>1</td>\n",
       "      <td>0.553050</td>\n",
       "    </tr>\n",
       "  </tbody>\n",
       "</table>\n",
       "</div>"
      ],
      "text/plain": [
       "     purch_amt  gender card_on_file   age  days_since_last_purch  loyalty  \\\n",
       "34       60.93  female           no  28.0                   35.0    False   \n",
       "43       56.50  female          yes  28.0                   34.0    False   \n",
       "50       51.32    male           no  28.0                   34.0    False   \n",
       "105      75.57  female          yes  40.0                   36.0    False   \n",
       "130      32.78  female          yes  44.0                   34.0    False   \n",
       "143      63.80  female           no  52.0                   48.0    False   \n",
       "161      93.12    male           no  34.0                   50.0    False   \n",
       "174      58.83  female           no  25.0                   35.0    False   \n",
       "188      55.20  female           no  36.0                   38.0    False   \n",
       "215      81.17    male           no  31.0                   34.0    False   \n",
       "240      60.93    male           no  42.0                   30.0    False   \n",
       "268      39.70  female           no  31.0                   26.0    False   \n",
       "269      45.73  female           no  34.0                   22.0    False   \n",
       "350      86.59  female          yes  33.0                   33.0    False   \n",
       "366      64.15  female          yes  49.0                   46.0    False   \n",
       "370      58.49  female          yes  32.0                   36.0    False   \n",
       "379      31.91  female          yes  45.0                   31.0    False   \n",
       "385      64.35  female          yes  45.0                   35.0    False   \n",
       "452      76.37  female           no  48.0                   46.0    False   \n",
       "496      31.53  female           no  31.0                   28.0    False   \n",
       "\n",
       "     nb_predict  nb_proba  log_predict  log_proba  \n",
       "34            1  0.564506            1   0.562987  \n",
       "43            1  0.549029            1   0.554662  \n",
       "50            1  0.508909            1   0.515860  \n",
       "105           1  0.786128            1   0.765831  \n",
       "130           1  0.586921            1   0.572457  \n",
       "143           1  0.612840            1   0.555798  \n",
       "161           1  0.572112            1   0.505676  \n",
       "174           1  0.511068            1   0.510613  \n",
       "188           1  0.559327            1   0.543651  \n",
       "215           1  0.766306            1   0.752195  \n",
       "240           1  0.797918            1   0.808521  \n",
       "268           1  0.600703            1   0.658936  \n",
       "269           1  0.725656            1   0.800049  \n",
       "350           1  0.827527            1   0.813320  \n",
       "366           1  0.622661            1   0.571142  \n",
       "370           1  0.574917            1   0.568768  \n",
       "379           1  0.648058            1   0.648845  \n",
       "385           1  0.781993            1   0.767191  \n",
       "452           1  0.703074            1   0.646912  \n",
       "496           1  0.513596            1   0.553050  "
      ]
     },
     "execution_count": 38,
     "metadata": {},
     "output_type": "execute_result"
    }
   ],
   "source": [
    "loyalty_program[(loyalty_program.loyalty==False)\n",
    "                & (loyalty_program.nb_predict==1)\n",
    "                & (loyalty_program.log_predict==1)].head(20)"
   ]
  },
  {
   "cell_type": "markdown",
   "metadata": {},
   "source": [
    "Here's a nice group of 3700 fictional customers to target with loyalty campaigns!"
   ]
  },
  {
   "cell_type": "markdown",
   "metadata": {},
   "source": [
    "Next, we'll average our probability scores together and rank our negative predicts by a combined probability"
   ]
  },
  {
   "cell_type": "code",
   "execution_count": 39,
   "metadata": {
    "scrolled": true
   },
   "outputs": [
    {
     "data": {
      "text/html": [
       "<div>\n",
       "<style>\n",
       "    .dataframe thead tr:only-child th {\n",
       "        text-align: right;\n",
       "    }\n",
       "\n",
       "    .dataframe thead th {\n",
       "        text-align: left;\n",
       "    }\n",
       "\n",
       "    .dataframe tbody tr th {\n",
       "        vertical-align: top;\n",
       "    }\n",
       "</style>\n",
       "<table border=\"1\" class=\"dataframe\">\n",
       "  <thead>\n",
       "    <tr style=\"text-align: right;\">\n",
       "      <th></th>\n",
       "      <th>purch_amt</th>\n",
       "      <th>gender</th>\n",
       "      <th>card_on_file</th>\n",
       "      <th>age</th>\n",
       "      <th>days_since_last_purch</th>\n",
       "      <th>loyalty</th>\n",
       "      <th>nb_predict</th>\n",
       "      <th>nb_proba</th>\n",
       "      <th>log_predict</th>\n",
       "      <th>log_proba</th>\n",
       "      <th>combined_proba</th>\n",
       "    </tr>\n",
       "  </thead>\n",
       "  <tbody>\n",
       "    <tr>\n",
       "      <th>37119</th>\n",
       "      <td>50.45</td>\n",
       "      <td>female</td>\n",
       "      <td>yes</td>\n",
       "      <td>31.0</td>\n",
       "      <td>36.0</td>\n",
       "      <td>False</td>\n",
       "      <td>0</td>\n",
       "      <td>0.499946</td>\n",
       "      <td>0</td>\n",
       "      <td>0.496352</td>\n",
       "      <td>0.498149</td>\n",
       "    </tr>\n",
       "    <tr>\n",
       "      <th>26489</th>\n",
       "      <td>55.58</td>\n",
       "      <td>female</td>\n",
       "      <td>yes</td>\n",
       "      <td>26.0</td>\n",
       "      <td>35.0</td>\n",
       "      <td>False</td>\n",
       "      <td>0</td>\n",
       "      <td>0.497454</td>\n",
       "      <td>0</td>\n",
       "      <td>0.498433</td>\n",
       "      <td>0.497943</td>\n",
       "    </tr>\n",
       "    <tr>\n",
       "      <th>32764</th>\n",
       "      <td>57.16</td>\n",
       "      <td>female</td>\n",
       "      <td>yes</td>\n",
       "      <td>25.0</td>\n",
       "      <td>35.0</td>\n",
       "      <td>False</td>\n",
       "      <td>0</td>\n",
       "      <td>0.497750</td>\n",
       "      <td>0</td>\n",
       "      <td>0.498036</td>\n",
       "      <td>0.497893</td>\n",
       "    </tr>\n",
       "    <tr>\n",
       "      <th>76774</th>\n",
       "      <td>27.74</td>\n",
       "      <td>male</td>\n",
       "      <td>no</td>\n",
       "      <td>37.0</td>\n",
       "      <td>32.0</td>\n",
       "      <td>False</td>\n",
       "      <td>0</td>\n",
       "      <td>0.496527</td>\n",
       "      <td>0</td>\n",
       "      <td>0.498782</td>\n",
       "      <td>0.497655</td>\n",
       "    </tr>\n",
       "    <tr>\n",
       "      <th>79632</th>\n",
       "      <td>53.66</td>\n",
       "      <td>male</td>\n",
       "      <td>yes</td>\n",
       "      <td>29.0</td>\n",
       "      <td>36.0</td>\n",
       "      <td>False</td>\n",
       "      <td>0</td>\n",
       "      <td>0.499322</td>\n",
       "      <td>0</td>\n",
       "      <td>0.495936</td>\n",
       "      <td>0.497629</td>\n",
       "    </tr>\n",
       "    <tr>\n",
       "      <th>26543</th>\n",
       "      <td>15.76</td>\n",
       "      <td>male</td>\n",
       "      <td>no</td>\n",
       "      <td>40.0</td>\n",
       "      <td>30.0</td>\n",
       "      <td>False</td>\n",
       "      <td>0</td>\n",
       "      <td>0.499099</td>\n",
       "      <td>0</td>\n",
       "      <td>0.495290</td>\n",
       "      <td>0.497194</td>\n",
       "    </tr>\n",
       "    <tr>\n",
       "      <th>98647</th>\n",
       "      <td>35.62</td>\n",
       "      <td>male</td>\n",
       "      <td>yes</td>\n",
       "      <td>36.0</td>\n",
       "      <td>34.0</td>\n",
       "      <td>False</td>\n",
       "      <td>0</td>\n",
       "      <td>0.497709</td>\n",
       "      <td>0</td>\n",
       "      <td>0.495987</td>\n",
       "      <td>0.496848</td>\n",
       "    </tr>\n",
       "    <tr>\n",
       "      <th>71859</th>\n",
       "      <td>52.19</td>\n",
       "      <td>female</td>\n",
       "      <td>no</td>\n",
       "      <td>28.0</td>\n",
       "      <td>35.0</td>\n",
       "      <td>False</td>\n",
       "      <td>0</td>\n",
       "      <td>0.495771</td>\n",
       "      <td>0</td>\n",
       "      <td>0.497493</td>\n",
       "      <td>0.496632</td>\n",
       "    </tr>\n",
       "    <tr>\n",
       "      <th>56585</th>\n",
       "      <td>55.66</td>\n",
       "      <td>male</td>\n",
       "      <td>yes</td>\n",
       "      <td>24.0</td>\n",
       "      <td>34.0</td>\n",
       "      <td>False</td>\n",
       "      <td>0</td>\n",
       "      <td>0.493636</td>\n",
       "      <td>0</td>\n",
       "      <td>0.499367</td>\n",
       "      <td>0.496502</td>\n",
       "    </tr>\n",
       "    <tr>\n",
       "      <th>54064</th>\n",
       "      <td>67.82</td>\n",
       "      <td>female</td>\n",
       "      <td>yes</td>\n",
       "      <td>16.0</td>\n",
       "      <td>34.0</td>\n",
       "      <td>False</td>\n",
       "      <td>0</td>\n",
       "      <td>0.499968</td>\n",
       "      <td>0</td>\n",
       "      <td>0.492583</td>\n",
       "      <td>0.496276</td>\n",
       "    </tr>\n",
       "    <tr>\n",
       "      <th>113764</th>\n",
       "      <td>58.69</td>\n",
       "      <td>female</td>\n",
       "      <td>no</td>\n",
       "      <td>22.0</td>\n",
       "      <td>34.0</td>\n",
       "      <td>False</td>\n",
       "      <td>0</td>\n",
       "      <td>0.493838</td>\n",
       "      <td>0</td>\n",
       "      <td>0.497596</td>\n",
       "      <td>0.495717</td>\n",
       "    </tr>\n",
       "    <tr>\n",
       "      <th>30756</th>\n",
       "      <td>52.01</td>\n",
       "      <td>male</td>\n",
       "      <td>yes</td>\n",
       "      <td>28.0</td>\n",
       "      <td>35.0</td>\n",
       "      <td>False</td>\n",
       "      <td>0</td>\n",
       "      <td>0.494387</td>\n",
       "      <td>0</td>\n",
       "      <td>0.496137</td>\n",
       "      <td>0.495262</td>\n",
       "    </tr>\n",
       "    <tr>\n",
       "      <th>37746</th>\n",
       "      <td>57.93</td>\n",
       "      <td>female</td>\n",
       "      <td>no</td>\n",
       "      <td>28.0</td>\n",
       "      <td>37.0</td>\n",
       "      <td>False</td>\n",
       "      <td>0</td>\n",
       "      <td>0.499643</td>\n",
       "      <td>0</td>\n",
       "      <td>0.490876</td>\n",
       "      <td>0.495260</td>\n",
       "    </tr>\n",
       "    <tr>\n",
       "      <th>81630</th>\n",
       "      <td>71.00</td>\n",
       "      <td>female</td>\n",
       "      <td>no</td>\n",
       "      <td>8.0</td>\n",
       "      <td>31.0</td>\n",
       "      <td>False</td>\n",
       "      <td>0</td>\n",
       "      <td>0.497346</td>\n",
       "      <td>0</td>\n",
       "      <td>0.492937</td>\n",
       "      <td>0.495141</td>\n",
       "    </tr>\n",
       "    <tr>\n",
       "      <th>22426</th>\n",
       "      <td>50.67</td>\n",
       "      <td>female</td>\n",
       "      <td>yes</td>\n",
       "      <td>27.0</td>\n",
       "      <td>34.0</td>\n",
       "      <td>False</td>\n",
       "      <td>0</td>\n",
       "      <td>0.491562</td>\n",
       "      <td>0</td>\n",
       "      <td>0.498673</td>\n",
       "      <td>0.495117</td>\n",
       "    </tr>\n",
       "    <tr>\n",
       "      <th>103591</th>\n",
       "      <td>38.88</td>\n",
       "      <td>male</td>\n",
       "      <td>yes</td>\n",
       "      <td>34.0</td>\n",
       "      <td>34.0</td>\n",
       "      <td>False</td>\n",
       "      <td>0</td>\n",
       "      <td>0.494063</td>\n",
       "      <td>0</td>\n",
       "      <td>0.495948</td>\n",
       "      <td>0.495005</td>\n",
       "    </tr>\n",
       "    <tr>\n",
       "      <th>55997</th>\n",
       "      <td>45.33</td>\n",
       "      <td>male</td>\n",
       "      <td>yes</td>\n",
       "      <td>32.0</td>\n",
       "      <td>35.0</td>\n",
       "      <td>False</td>\n",
       "      <td>0</td>\n",
       "      <td>0.494750</td>\n",
       "      <td>0</td>\n",
       "      <td>0.495010</td>\n",
       "      <td>0.494880</td>\n",
       "    </tr>\n",
       "    <tr>\n",
       "      <th>48230</th>\n",
       "      <td>55.13</td>\n",
       "      <td>female</td>\n",
       "      <td>no</td>\n",
       "      <td>26.0</td>\n",
       "      <td>35.0</td>\n",
       "      <td>False</td>\n",
       "      <td>0</td>\n",
       "      <td>0.493923</td>\n",
       "      <td>0</td>\n",
       "      <td>0.495043</td>\n",
       "      <td>0.494483</td>\n",
       "    </tr>\n",
       "    <tr>\n",
       "      <th>104741</th>\n",
       "      <td>48.92</td>\n",
       "      <td>female</td>\n",
       "      <td>no</td>\n",
       "      <td>28.0</td>\n",
       "      <td>34.0</td>\n",
       "      <td>False</td>\n",
       "      <td>0</td>\n",
       "      <td>0.490696</td>\n",
       "      <td>0</td>\n",
       "      <td>0.497788</td>\n",
       "      <td>0.494242</td>\n",
       "    </tr>\n",
       "    <tr>\n",
       "      <th>578</th>\n",
       "      <td>61.76</td>\n",
       "      <td>female</td>\n",
       "      <td>no</td>\n",
       "      <td>18.0</td>\n",
       "      <td>33.0</td>\n",
       "      <td>False</td>\n",
       "      <td>0</td>\n",
       "      <td>0.491538</td>\n",
       "      <td>0</td>\n",
       "      <td>0.496457</td>\n",
       "      <td>0.493997</td>\n",
       "    </tr>\n",
       "  </tbody>\n",
       "</table>\n",
       "</div>"
      ],
      "text/plain": [
       "        purch_amt  gender card_on_file   age  days_since_last_purch  loyalty  \\\n",
       "37119       50.45  female          yes  31.0                   36.0    False   \n",
       "26489       55.58  female          yes  26.0                   35.0    False   \n",
       "32764       57.16  female          yes  25.0                   35.0    False   \n",
       "76774       27.74    male           no  37.0                   32.0    False   \n",
       "79632       53.66    male          yes  29.0                   36.0    False   \n",
       "26543       15.76    male           no  40.0                   30.0    False   \n",
       "98647       35.62    male          yes  36.0                   34.0    False   \n",
       "71859       52.19  female           no  28.0                   35.0    False   \n",
       "56585       55.66    male          yes  24.0                   34.0    False   \n",
       "54064       67.82  female          yes  16.0                   34.0    False   \n",
       "113764      58.69  female           no  22.0                   34.0    False   \n",
       "30756       52.01    male          yes  28.0                   35.0    False   \n",
       "37746       57.93  female           no  28.0                   37.0    False   \n",
       "81630       71.00  female           no   8.0                   31.0    False   \n",
       "22426       50.67  female          yes  27.0                   34.0    False   \n",
       "103591      38.88    male          yes  34.0                   34.0    False   \n",
       "55997       45.33    male          yes  32.0                   35.0    False   \n",
       "48230       55.13  female           no  26.0                   35.0    False   \n",
       "104741      48.92  female           no  28.0                   34.0    False   \n",
       "578         61.76  female           no  18.0                   33.0    False   \n",
       "\n",
       "        nb_predict  nb_proba  log_predict  log_proba  combined_proba  \n",
       "37119            0  0.499946            0   0.496352        0.498149  \n",
       "26489            0  0.497454            0   0.498433        0.497943  \n",
       "32764            0  0.497750            0   0.498036        0.497893  \n",
       "76774            0  0.496527            0   0.498782        0.497655  \n",
       "79632            0  0.499322            0   0.495936        0.497629  \n",
       "26543            0  0.499099            0   0.495290        0.497194  \n",
       "98647            0  0.497709            0   0.495987        0.496848  \n",
       "71859            0  0.495771            0   0.497493        0.496632  \n",
       "56585            0  0.493636            0   0.499367        0.496502  \n",
       "54064            0  0.499968            0   0.492583        0.496276  \n",
       "113764           0  0.493838            0   0.497596        0.495717  \n",
       "30756            0  0.494387            0   0.496137        0.495262  \n",
       "37746            0  0.499643            0   0.490876        0.495260  \n",
       "81630            0  0.497346            0   0.492937        0.495141  \n",
       "22426            0  0.491562            0   0.498673        0.495117  \n",
       "103591           0  0.494063            0   0.495948        0.495005  \n",
       "55997            0  0.494750            0   0.495010        0.494880  \n",
       "48230            0  0.493923            0   0.495043        0.494483  \n",
       "104741           0  0.490696            0   0.497788        0.494242  \n",
       "578              0  0.491538            0   0.496457        0.493997  "
      ]
     },
     "execution_count": 39,
     "metadata": {},
     "output_type": "execute_result"
    }
   ],
   "source": [
    "# Average out probability metrics\n",
    "loyalty_program['combined_proba'] = (loyalty_program.nb_proba + loyalty_program.log_proba)/2\n",
    "\n",
    "# Pull out False predictions not on the loyalty program and rank by probability score\n",
    "loyalty_program[(loyalty_program.loyalty==False)\n",
    "                & (loyalty_program.nb_predict==0)\n",
    "                & (loyalty_program.log_predict==0)].sort_values(by='combined_proba', ascending=False).head(20)"
   ]
  },
  {
   "cell_type": "markdown",
   "metadata": {},
   "source": [
    "And there you have another list to pull prospects from. You can decide on a threshold after which you stop pulling prospects, utilizing cost/revenue analyses to determine your threshold"
   ]
  },
  {
   "cell_type": "markdown",
   "metadata": {},
   "source": [
    "## Conclusions"
   ]
  },
  {
   "cell_type": "markdown",
   "metadata": {},
   "source": [
    "So what did we learn today?\n",
    "\n",
    "1) Loyalty program members tend to be older, spend more and shop more frequently\n",
    "\n",
    "2) Gender does not influence decisions to be a loyalty member\n",
    "\n",
    "3) Having a card on file does not influence decisions to be a loyalty member\n",
    "\n",
    "4) Ensemble modeling is a good way to look for prospects to actively pursue using loyalty campaigns"
   ]
  }
 ],
 "metadata": {
  "kernelspec": {
   "display_name": "Python 3",
   "language": "python",
   "name": "python3"
  },
  "language_info": {
   "codemirror_mode": {
    "name": "ipython",
    "version": 3
   },
   "file_extension": ".py",
   "mimetype": "text/x-python",
   "name": "python",
   "nbconvert_exporter": "python",
   "pygments_lexer": "ipython3",
   "version": "3.6.3"
  }
 },
 "nbformat": 4,
 "nbformat_minor": 2
}
