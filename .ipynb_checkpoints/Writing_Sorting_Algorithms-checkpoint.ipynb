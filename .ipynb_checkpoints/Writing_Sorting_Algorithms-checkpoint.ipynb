{
 "cells": [
  {
   "cell_type": "markdown",
   "metadata": {},
   "source": [
    "### Linear Search\n",
    "\n",
    "Searches for an item in an unordered list by iterating and comparing each item"
   ]
  },
  {
   "cell_type": "code",
   "execution_count": 1,
   "metadata": {},
   "outputs": [],
   "source": [
    "def linearSearch (myItem, myList):\n",
    "    found = False\n",
    "    position= 0\n",
    "    \n",
    "    while position < len(myList):\n",
    "        if myList[position] == myItem:\n",
    "            found = True\n",
    "        position = position +1\n",
    "        \n",
    "    return found"
   ]
  },
  {
   "cell_type": "code",
   "execution_count": 2,
   "metadata": {},
   "outputs": [
    {
     "data": {
      "text/plain": [
       "True"
      ]
     },
     "execution_count": 2,
     "metadata": {},
     "output_type": "execute_result"
    }
   ],
   "source": [
    "myList = [45, 78, 92, 30, 33]\n",
    "item = 33\n",
    "\n",
    "linearSearch(item, myList)"
   ]
  },
  {
   "cell_type": "markdown",
   "metadata": {},
   "source": [
    "### Binary Search\n",
    "\n",
    "Searches for item in an ordered list by iterativel cutting list in half until item is found"
   ]
  },
  {
   "cell_type": "code",
   "execution_count": 3,
   "metadata": {},
   "outputs": [],
   "source": [
    "def binarySearch(myItem, myList):\n",
    "    found = False\n",
    "    bottom = 0\n",
    "    top = len(myList)\n",
    "    counter = 0\n",
    "    \n",
    "    while bottom <= top and not found:\n",
    "        middle = (bottom+top)//2\n",
    "        if myList[middle] < myItem:\n",
    "            bottom = middle + 1\n",
    "        elif myList[middle] > myItem:\n",
    "            top = middle - 1\n",
    "        elif myList[middle] == myItem:\n",
    "            found = True\n",
    "        counter = counter +1\n",
    "    \n",
    "    return found, counter"
   ]
  },
  {
   "cell_type": "code",
   "execution_count": 4,
   "metadata": {},
   "outputs": [
    {
     "data": {
      "text/plain": [
       "(True, 4)"
      ]
     },
     "execution_count": 4,
     "metadata": {},
     "output_type": "execute_result"
    }
   ],
   "source": [
    "myList = [3, 12, 19, 29, 38, 44, 45, 50, 51, 59, 63, 78, 92, 99, 100]\n",
    "item = 100\n",
    "\n",
    "binarySearch(item, myList)"
   ]
  },
  {
   "cell_type": "markdown",
   "metadata": {},
   "source": [
    "### Bubble Sort\n",
    "\n",
    "Sort unordered list by iteratively swapping left item with left+! item until all items are ordered"
   ]
  },
  {
   "cell_type": "code",
   "execution_count": 5,
   "metadata": {
    "collapsed": true
   },
   "outputs": [],
   "source": [
    "def bubbleSort (myList):\n",
    "    swaps = 0\n",
    "    comparison = 0\n",
    "    moreSwaps = True\n",
    "    while moreSwaps:\n",
    "        moreSwaps = False\n",
    "        for element in range(len(myList)-1):\n",
    "            comparison = comparison +1\n",
    "            if myList[element] > myList[element+1]:\n",
    "                moreSwaps = True\n",
    "                temp = myList[element]\n",
    "                myList[element] = myList[element+1]\n",
    "                myList[element+1]= temp\n",
    "                swaps = swaps +1\n",
    "                \n",
    "    return (myList, swaps, comparison)"
   ]
  },
  {
   "cell_type": "code",
   "execution_count": 6,
   "metadata": {},
   "outputs": [
    {
     "data": {
      "text/plain": [
       "([3, 12, 19, 29, 38, 44, 45, 50, 51, 59, 63, 78, 92, 99, 100], 56, 196)"
      ]
     },
     "execution_count": 6,
     "metadata": {},
     "output_type": "execute_result"
    }
   ],
   "source": [
    "import numpy as np\n",
    "\n",
    "np.random.shuffle(myList)\n",
    "bubbleSort(myList)"
   ]
  },
  {
   "cell_type": "markdown",
   "metadata": {},
   "source": [
    "### Insertion Sort\n",
    "\n",
    "1. Sort unordered list by placing a marker at index 1 to delineate sorted and unsorted sections\n",
    "2. Sort item to the right of marker leftwards using swapping\n",
    "3. Shift marker one space to the right and iterate"
   ]
  },
  {
   "cell_type": "code",
   "execution_count": 7,
   "metadata": {
    "collapsed": true
   },
   "outputs": [],
   "source": [
    "def insertionSort (myList):\n",
    "    marker = 1\n",
    "    swaps = 0\n",
    "    comparisons = 0\n",
    "    while marker < len(myList):\n",
    "        pointer = marker -1\n",
    "        sorted = False\n",
    "        while pointer >= 0 and not sorted:\n",
    "            if myList[pointer+1] < myList[pointer]:\n",
    "                temp = myList[pointer]\n",
    "                myList[pointer] = myList[pointer+1]\n",
    "                myList[pointer+1] = temp\n",
    "                pointer = pointer -1\n",
    "                swaps = swaps +1\n",
    "            else:\n",
    "                sorted = True\n",
    "            comparisons = comparisons +1\n",
    "        marker = marker +1\n",
    "    \n",
    "    return (myList, swaps, comparisons)"
   ]
  },
  {
   "cell_type": "code",
   "execution_count": 8,
   "metadata": {},
   "outputs": [
    {
     "data": {
      "text/plain": [
       "([3, 12, 19, 29, 38, 44, 45, 50, 51, 59, 63, 78, 92, 99, 100], 62, 73)"
      ]
     },
     "execution_count": 8,
     "metadata": {},
     "output_type": "execute_result"
    }
   ],
   "source": [
    "np.random.shuffle(myList)\n",
    "\n",
    "insertionSort(myList)"
   ]
  },
  {
   "cell_type": "code",
   "execution_count": 9,
   "metadata": {},
   "outputs": [
    {
     "data": {
      "text/plain": [
       "([3, 12, 19, 29, 38, 44, 45, 50, 51, 59, 63, 78, 92, 99, 100], 56, 126)"
      ]
     },
     "execution_count": 9,
     "metadata": {},
     "output_type": "execute_result"
    }
   ],
   "source": [
    "np.random.shuffle(myList)\n",
    "\n",
    "bubbleSort(myList)"
   ]
  },
  {
   "cell_type": "markdown",
   "metadata": {},
   "source": [
    "**NOTE**: Bubble Sorting runs significantly more comparisons than Insertion Sorting, and is therefore slower"
   ]
  },
  {
   "cell_type": "markdown",
   "metadata": {},
   "source": [
    "### Quick Sort"
   ]
  },
  {
   "cell_type": "code",
   "execution_count": 10,
   "metadata": {
    "collapsed": true
   },
   "outputs": [],
   "source": [
    "# Partition the list to sort in 2\n",
    "\n",
    "def partition(myList, start, end):\n",
    "    pivot = myList[start]\n",
    "    left = start+1\n",
    "    right = end\n",
    "    done = False\n",
    "    # Sort into values less than pivot on left and values higher than pivot on right\n",
    "    while not done:\n",
    "        while left <= right and myList[left] <= pivot:\n",
    "            left = left + 1\n",
    "        while myList[right] >= pivot and right >=left:\n",
    "            right = right -1\n",
    "        if right < left:\n",
    "            done= True\n",
    "        else:\n",
    "            # swap places\n",
    "            temp=myList[left]\n",
    "            myList[left]=myList[right]\n",
    "            myList[right]=temp\n",
    "    # swap start with myList[right]\n",
    "    temp=myList[start]\n",
    "    myList[start]=myList[right]\n",
    "    myList[right]=temp\n",
    "    return right\n",
    "\n",
    "\n",
    "def quicksort(myList, start, end):\n",
    "    if start < end:\n",
    "        # partition the list\n",
    "        pivot = partition(myList, start, end)\n",
    "        # sort both halves\n",
    "        quicksort(myList, start, pivot-1)\n",
    "        quicksort(myList, pivot+1, end)\n",
    "    return myList"
   ]
  },
  {
   "cell_type": "code",
   "execution_count": 11,
   "metadata": {},
   "outputs": [
    {
     "data": {
      "text/plain": [
       "[3, 12, 19, 29, 38, 44, 45, 50, 51, 59, 63, 78, 92, 99, 100]"
      ]
     },
     "execution_count": 11,
     "metadata": {},
     "output_type": "execute_result"
    }
   ],
   "source": [
    "np.random.shuffle(myList)\n",
    "\n",
    "quicksort(myList,0,len(myList)-1)"
   ]
  },
  {
   "cell_type": "markdown",
   "metadata": {},
   "source": [
    "### Trees"
   ]
  },
  {
   "cell_type": "code",
   "execution_count": 12,
   "metadata": {},
   "outputs": [],
   "source": [
    "class Node:\n",
    "    def __init__(self,val):\n",
    "        self.left = None\n",
    "        self.right = None\n",
    "        self.val = val\n",
    "        \n",
    "root = Node('A')\n",
    "root.left = Node('Bob')\n",
    "root.right = Node(['list','of','words'])\n",
    "root.left.left = 1\n",
    "root.left.right = 2"
   ]
  }
 ],
 "metadata": {
  "kernelspec": {
   "display_name": "Python 3",
   "language": "python",
   "name": "python3"
  },
  "language_info": {
   "codemirror_mode": {
    "name": "ipython",
    "version": 3
   },
   "file_extension": ".py",
   "mimetype": "text/x-python",
   "name": "python",
   "nbconvert_exporter": "python",
   "pygments_lexer": "ipython3",
   "version": "3.6.3"
  }
 },
 "nbformat": 4,
 "nbformat_minor": 2
}
