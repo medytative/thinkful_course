{
 "cells": [
  {
   "cell_type": "code",
   "execution_count": 1,
   "metadata": {
    "collapsed": true
   },
   "outputs": [],
   "source": [
    "%matplotlib inline\n",
    "import numpy as np\n",
    "import pandas as pd\n",
    "import scipy\n",
    "import sklearn\n",
    "import matplotlib.pyplot as plt\n",
    "import seaborn as sns\n",
    "import math"
   ]
  },
  {
   "cell_type": "markdown",
   "metadata": {},
   "source": [
    "## Data Cleaning"
   ]
  },
  {
   "cell_type": "code",
   "execution_count": 2,
   "metadata": {
    "collapsed": true
   },
   "outputs": [],
   "source": [
    "inequality = pd.read_csv('https://raw.githubusercontent.com/medytative/data/master/Coefficient%20of%20Human%20Inequality.csv', index_col=1)\n",
    "education_expenditure = pd.read_csv('https://raw.githubusercontent.com/medytative/data/master/Government%20expenditure%20on%20education%20-%20%25%20of%20GDP.csv', index_col=1)\n",
    "internet_users = pd.read_csv('https://raw.githubusercontent.com/medytative/data/master/Internet%20users%20-%20%25%20of%20population.csv', index_col=1)\n",
    "females_working = pd.read_csv('https://raw.githubusercontent.com/medytative/data/master/Labour%20force%20participation%20rate%2C%20female%20-%20%25%20ages%2015%20and%20older.csv', index_col=1)\n",
    "median_age = pd.read_csv('https://raw.githubusercontent.com/medytative/data/master/Median%20age%20-%20years.csv', index_col=1)\n",
    "urban_population = pd.read_csv('https://raw.githubusercontent.com/medytative/data/master/Population%2C%20urban%20-%20perct.csv', index_col=1)\n",
    "\n",
    "dataframes = [inequality, education_expenditure, internet_users, females_working, median_age, urban_population]"
   ]
  },
  {
   "cell_type": "code",
   "execution_count": 3,
   "metadata": {
    "collapsed": true
   },
   "outputs": [],
   "source": [
    "for df in dataframes:\n",
    "    #Delete unnecessary column\n",
    "    del df[df.columns[0]]\n",
    "    #Impute row mean for NaN values\n",
    "    for i in range(len(df)):\n",
    "        row = df.iloc[i,:]\n",
    "        for j in range(len(row)):\n",
    "            if math.isnan(df.iloc[i,j]):\n",
    "                df.iloc[i,j] = (df.iloc[i,:]).mean()"
   ]
  },
  {
   "cell_type": "code",
   "execution_count": 4,
   "metadata": {
    "collapsed": true
   },
   "outputs": [],
   "source": [
    "# Concatenating DataFrames\n",
    "\n",
    "inequality_2010 = pd.DataFrame(inequality['2010'])\n",
    "inequality_2010.rename(columns = {'2010':'inequality'}, inplace=True)\n",
    "inequality_2010['year'] = 2010\n",
    "\n",
    "inequality_2015 = pd.DataFrame(inequality['2015'])\n",
    "inequality_2015.rename(columns = {'2015':'inequality'}, inplace=True)\n",
    "inequality_2015['year'] = 2015"
   ]
  },
  {
   "cell_type": "code",
   "execution_count": 5,
   "metadata": {},
   "outputs": [],
   "source": [
    "# Concatenating DataFrames cont.\n",
    "\n",
    "inequality_2010['education_expenditure'] = education_expenditure['2005']\n",
    "inequality_2015['education_expenditure'] = education_expenditure['2010']\n",
    "\n",
    "inequality_2010['internet_users'] = internet_users['2005']\n",
    "inequality_2015['internet_users'] = internet_users['2010']\n",
    "\n",
    "inequality_2010['females_working'] = females_working['2005']\n",
    "inequality_2015['females_working'] = females_working['2010']\n",
    "\n",
    "inequality_2010['median_age'] = median_age['2005']\n",
    "inequality_2015['median_age'] = median_age['2010']\n",
    "\n",
    "inequality_2010['urban_population'] = urban_population['2005']\n",
    "inequality_2015['urban_population'] = urban_population['2010']"
   ]
  },
  {
   "cell_type": "code",
   "execution_count": 6,
   "metadata": {
    "collapsed": true
   },
   "outputs": [],
   "source": [
    "# Concatenating DataFrames cont.\n",
    "\n",
    "inequality = pd.concat([inequality_2010, inequality_2015], axis=0, ignore_index=True)\n",
    "inequality['year'] = np.where((inequality['year']==2010),0,1)"
   ]
  },
  {
   "cell_type": "code",
   "execution_count": 7,
   "metadata": {},
   "outputs": [],
   "source": [
    "inequality = inequality.dropna()"
   ]
  },
  {
   "cell_type": "code",
   "execution_count": 8,
   "metadata": {
    "scrolled": true
   },
   "outputs": [
    {
     "data": {
      "text/html": [
       "<div>\n",
       "<style>\n",
       "    .dataframe thead tr:only-child th {\n",
       "        text-align: right;\n",
       "    }\n",
       "\n",
       "    .dataframe thead th {\n",
       "        text-align: left;\n",
       "    }\n",
       "\n",
       "    .dataframe tbody tr th {\n",
       "        vertical-align: top;\n",
       "    }\n",
       "</style>\n",
       "<table border=\"1\" class=\"dataframe\">\n",
       "  <thead>\n",
       "    <tr style=\"text-align: right;\">\n",
       "      <th></th>\n",
       "      <th>inequality</th>\n",
       "      <th>year</th>\n",
       "      <th>education_expenditure</th>\n",
       "      <th>internet_users</th>\n",
       "      <th>females_working</th>\n",
       "      <th>median_age</th>\n",
       "      <th>urban_population</th>\n",
       "    </tr>\n",
       "  </thead>\n",
       "  <tbody>\n",
       "    <tr>\n",
       "      <th>0</th>\n",
       "      <td>30.133333</td>\n",
       "      <td>0</td>\n",
       "      <td>4.2</td>\n",
       "      <td>1.2</td>\n",
       "      <td>16.4</td>\n",
       "      <td>16.1</td>\n",
       "      <td>22.9</td>\n",
       "    </tr>\n",
       "    <tr>\n",
       "      <th>1</th>\n",
       "      <td>12.700000</td>\n",
       "      <td>0</td>\n",
       "      <td>3.2</td>\n",
       "      <td>6.0</td>\n",
       "      <td>47.6</td>\n",
       "      <td>29.3</td>\n",
       "      <td>46.7</td>\n",
       "    </tr>\n",
       "    <tr>\n",
       "      <th>2</th>\n",
       "      <td>38.800000</td>\n",
       "      <td>0</td>\n",
       "      <td>2.1</td>\n",
       "      <td>1.1</td>\n",
       "      <td>61.4</td>\n",
       "      <td>15.9</td>\n",
       "      <td>36.2</td>\n",
       "    </tr>\n",
       "    <tr>\n",
       "      <th>3</th>\n",
       "      <td>19.000000</td>\n",
       "      <td>0</td>\n",
       "      <td>3.5</td>\n",
       "      <td>17.7</td>\n",
       "      <td>48.8</td>\n",
       "      <td>28.7</td>\n",
       "      <td>90.1</td>\n",
       "    </tr>\n",
       "    <tr>\n",
       "      <th>4</th>\n",
       "      <td>10.900000</td>\n",
       "      <td>0</td>\n",
       "      <td>2.7</td>\n",
       "      <td>5.3</td>\n",
       "      <td>48.5</td>\n",
       "      <td>30.9</td>\n",
       "      <td>64.2</td>\n",
       "    </tr>\n",
       "  </tbody>\n",
       "</table>\n",
       "</div>"
      ],
      "text/plain": [
       "   inequality  year  education_expenditure  internet_users  females_working  \\\n",
       "0   30.133333     0                    4.2             1.2             16.4   \n",
       "1   12.700000     0                    3.2             6.0             47.6   \n",
       "2   38.800000     0                    2.1             1.1             61.4   \n",
       "3   19.000000     0                    3.5            17.7             48.8   \n",
       "4   10.900000     0                    2.7             5.3             48.5   \n",
       "\n",
       "   median_age  urban_population  \n",
       "0        16.1              22.9  \n",
       "1        29.3              46.7  \n",
       "2        15.9              36.2  \n",
       "3        28.7              90.1  \n",
       "4        30.9              64.2  "
      ]
     },
     "execution_count": 8,
     "metadata": {},
     "output_type": "execute_result"
    }
   ],
   "source": [
    "inequality = inequality.dropna()\n",
    "inequality.head()"
   ]
  },
  {
   "cell_type": "markdown",
   "metadata": {},
   "source": [
    "## Testing Our Models (KNN and OLS Regressions)"
   ]
  },
  {
   "cell_type": "code",
   "execution_count": 21,
   "metadata": {},
   "outputs": [],
   "source": [
    "# Set attributes and outcome\n",
    "features = inequality.iloc[:,1:]\n",
    "target = inequality.inequality\n",
    "\n",
    "# Import modules and set up model testing function\n",
    "\n",
    "from imblearn.under_sampling import RandomUnderSampler\n",
    "from sklearn.model_selection import train_test_split\n",
    "from sklearn.model_selection import cross_val_score\n",
    "from sklearn.metrics import confusion_matrix\n",
    "\n",
    "def testing (features, target, algorithm):\n",
    "    accuracy = []\n",
    "    \n",
    "    for i in range(10):\n",
    "        # Break data into testing and training sets\n",
    "        X_train, X_test, y_train, y_test = train_test_split(features, target, test_size=0.25)\n",
    "        # Run algorithm\n",
    "        algorithm.fit(X_train, y_train)\n",
    "        # Determine accuracy rating\n",
    "        score = algorithm.score(X_test, y_test)\n",
    "        accuracy.append(score)\n",
    "        \n",
    "        \n",
    "    return np.asarray(accuracy).mean()"
   ]
  },
  {
   "cell_type": "code",
   "execution_count": 10,
   "metadata": {
    "scrolled": true
   },
   "outputs": [
    {
     "data": {
      "text/html": [
       "<div>\n",
       "<style>\n",
       "    .dataframe thead tr:only-child th {\n",
       "        text-align: right;\n",
       "    }\n",
       "\n",
       "    .dataframe thead th {\n",
       "        text-align: left;\n",
       "    }\n",
       "\n",
       "    .dataframe tbody tr th {\n",
       "        vertical-align: top;\n",
       "    }\n",
       "</style>\n",
       "<table border=\"1\" class=\"dataframe\">\n",
       "  <thead>\n",
       "    <tr style=\"text-align: right;\">\n",
       "      <th></th>\n",
       "      <th>inequality</th>\n",
       "      <th>year</th>\n",
       "      <th>education_expenditure</th>\n",
       "      <th>internet_users</th>\n",
       "      <th>females_working</th>\n",
       "      <th>median_age</th>\n",
       "      <th>urban_population</th>\n",
       "    </tr>\n",
       "  </thead>\n",
       "  <tbody>\n",
       "    <tr>\n",
       "      <th>inequality</th>\n",
       "      <td>1.000000</td>\n",
       "      <td>-0.060175</td>\n",
       "      <td>-0.114502</td>\n",
       "      <td>-0.768291</td>\n",
       "      <td>0.147862</td>\n",
       "      <td>-0.880617</td>\n",
       "      <td>-0.577906</td>\n",
       "    </tr>\n",
       "    <tr>\n",
       "      <th>year</th>\n",
       "      <td>-0.060175</td>\n",
       "      <td>1.000000</td>\n",
       "      <td>0.034968</td>\n",
       "      <td>0.237557</td>\n",
       "      <td>0.018946</td>\n",
       "      <td>0.070623</td>\n",
       "      <td>0.036874</td>\n",
       "    </tr>\n",
       "    <tr>\n",
       "      <th>education_expenditure</th>\n",
       "      <td>-0.114502</td>\n",
       "      <td>0.034968</td>\n",
       "      <td>1.000000</td>\n",
       "      <td>0.191512</td>\n",
       "      <td>-0.069504</td>\n",
       "      <td>0.094204</td>\n",
       "      <td>0.043235</td>\n",
       "    </tr>\n",
       "    <tr>\n",
       "      <th>internet_users</th>\n",
       "      <td>-0.768291</td>\n",
       "      <td>0.237557</td>\n",
       "      <td>0.191512</td>\n",
       "      <td>1.000000</td>\n",
       "      <td>-0.100933</td>\n",
       "      <td>0.839375</td>\n",
       "      <td>0.666978</td>\n",
       "    </tr>\n",
       "    <tr>\n",
       "      <th>females_working</th>\n",
       "      <td>0.147862</td>\n",
       "      <td>0.018946</td>\n",
       "      <td>-0.069504</td>\n",
       "      <td>-0.100933</td>\n",
       "      <td>1.000000</td>\n",
       "      <td>-0.200222</td>\n",
       "      <td>-0.264016</td>\n",
       "    </tr>\n",
       "    <tr>\n",
       "      <th>median_age</th>\n",
       "      <td>-0.880617</td>\n",
       "      <td>0.070623</td>\n",
       "      <td>0.094204</td>\n",
       "      <td>0.839375</td>\n",
       "      <td>-0.200222</td>\n",
       "      <td>1.000000</td>\n",
       "      <td>0.666221</td>\n",
       "    </tr>\n",
       "    <tr>\n",
       "      <th>urban_population</th>\n",
       "      <td>-0.577906</td>\n",
       "      <td>0.036874</td>\n",
       "      <td>0.043235</td>\n",
       "      <td>0.666978</td>\n",
       "      <td>-0.264016</td>\n",
       "      <td>0.666221</td>\n",
       "      <td>1.000000</td>\n",
       "    </tr>\n",
       "  </tbody>\n",
       "</table>\n",
       "</div>"
      ],
      "text/plain": [
       "                       inequality      year  education_expenditure  \\\n",
       "inequality               1.000000 -0.060175              -0.114502   \n",
       "year                    -0.060175  1.000000               0.034968   \n",
       "education_expenditure   -0.114502  0.034968               1.000000   \n",
       "internet_users          -0.768291  0.237557               0.191512   \n",
       "females_working          0.147862  0.018946              -0.069504   \n",
       "median_age              -0.880617  0.070623               0.094204   \n",
       "urban_population        -0.577906  0.036874               0.043235   \n",
       "\n",
       "                       internet_users  females_working  median_age  \\\n",
       "inequality                  -0.768291         0.147862   -0.880617   \n",
       "year                         0.237557         0.018946    0.070623   \n",
       "education_expenditure        0.191512        -0.069504    0.094204   \n",
       "internet_users               1.000000        -0.100933    0.839375   \n",
       "females_working             -0.100933         1.000000   -0.200222   \n",
       "median_age                   0.839375        -0.200222    1.000000   \n",
       "urban_population             0.666978        -0.264016    0.666221   \n",
       "\n",
       "                       urban_population  \n",
       "inequality                    -0.577906  \n",
       "year                           0.036874  \n",
       "education_expenditure          0.043235  \n",
       "internet_users                 0.666978  \n",
       "females_working               -0.264016  \n",
       "median_age                     0.666221  \n",
       "urban_population               1.000000  "
      ]
     },
     "execution_count": 10,
     "metadata": {},
     "output_type": "execute_result"
    }
   ],
   "source": [
    "# Running correlation matrix\n",
    "\n",
    "corr_mat = inequality.corr()\n",
    "corr_mat"
   ]
  },
  {
   "cell_type": "code",
   "execution_count": 11,
   "metadata": {},
   "outputs": [
    {
     "data": {
      "text/plain": [
       "<matplotlib.axes._subplots.AxesSubplot at 0x10d276c88>"
      ]
     },
     "execution_count": 11,
     "metadata": {},
     "output_type": "execute_result"
    },
    {
     "data": {
      "image/png": "[encoded data removed]",
      "text/plain": [
       "<matplotlib.figure.Figure at 0x10d2768d0>"
      ]
     },
     "metadata": {},
     "output_type": "display_data"
    }
   ],
   "source": [
    "# Setting aesthetic features\n",
    "f, ax = plt.subplots(figsize=(15,15))\n",
    "sns.set()\n",
    "color = sns.diverging_palette(250, 250, s=90, l=80, sep=5, n=5)\n",
    "\n",
    "# Mapping heatmap\n",
    "sns.heatmap(corr_mat, center=0, annot=True, cmap=color, square=True)"
   ]
  },
  {
   "cell_type": "code",
   "execution_count": 23,
   "metadata": {},
   "outputs": [],
   "source": [
    "# Because there is collinearity amongst attributes, we'll use Ridge regression\n",
    "\n",
    "\n",
    "# Test Ridge regression to find best alpha value\n",
    "\n",
    "from sklearn import linear_model\n",
    "alphas = range(100)\n",
    "ridge_scores = []\n",
    "\n",
    "for lambd in alphas:\n",
    "    ridge = linear_model.Ridge(alpha=lambd)\n",
    "    r2_ridge = testing (features, target, ridge)\n",
    "    ridge_scores.append((lambd, r2_ridge))"
   ]
  },
  {
   "cell_type": "code",
   "execution_count": 27,
   "metadata": {
    "scrolled": false
   },
   "outputs": [
    {
     "data": {
      "text/plain": [
       "[<matplotlib.lines.Line2D at 0x10edd18d0>]"
      ]
     },
     "execution_count": 27,
     "metadata": {},
     "output_type": "execute_result"
    },
    {
     "data": {
      "image/png": "[encoded data removed]",
      "text/plain": [
       "<matplotlib.figure.Figure at 0x10eda3e10>"
      ]
     },
     "metadata": {},
     "output_type": "display_data"
    }
   ],
   "source": [
    "df = pd.DataFrame(np.array(ridge_scores), columns=['lambda','score'])\n",
    "\n",
    "plt.plot(df['lambda'],df['score'])"
   ]
  },
  {
   "cell_type": "code",
   "execution_count": 28,
   "metadata": {
    "collapsed": true
   },
   "outputs": [],
   "source": [
    "optimized_ridge = linear_model.Ridge(alpha=28)"
   ]
  },
  {
   "cell_type": "code",
   "execution_count": null,
   "metadata": {
    "collapsed": true
   },
   "outputs": [],
   "source": [
    "# Now let's test the KNN regression\n",
    "\n"
   ]
  }
 ],
 "metadata": {
  "kernelspec": {
   "display_name": "Python 3",
   "language": "python",
   "name": "python3"
  },
  "language_info": {
   "codemirror_mode": {
    "name": "ipython",
    "version": 3
   },
   "file_extension": ".py",
   "mimetype": "text/x-python",
   "name": "python",
   "nbconvert_exporter": "python",
   "pygments_lexer": "ipython3",
   "version": "3.6.3"
  }
 },
 "nbformat": 4,
 "nbformat_minor": 2
}
